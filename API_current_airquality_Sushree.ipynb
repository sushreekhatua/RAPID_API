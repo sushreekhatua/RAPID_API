{
 "cells": [
  {
   "cell_type": "markdown",
   "metadata": {},
   "source": [
    "# Abstract"
   ]
  },
  {
   "cell_type": "markdown",
   "metadata": {},
   "source": [
    "The United States of America (USA), also known as the United States (U.S. or US) or America, is a country mainly located in North America. It chiefly consists of 51 states including Washington DC and 5 territories and had a population of 328 million people in 2019.\n",
    "    Looking back at the figures from 2020 on the IQAir website the US obtained an overall ranking of 84 out of a total of 106 world cities. The average annual figure was US AQI 40, in comparison to Bangladesh which was the most polluted country with a US AQI figure of 162.\n",
    "\n",
    "The cleanest city was Waimea, Hawaii with a figure of just 9, whereas the most polluted city was Yosemite Lakes, California with a figure of 107."
   ]
  },
  {
   "cell_type": "markdown",
   "metadata": {},
   "source": [
    "\n",
    "\n",
    "<img src=\"https://fm.cnbc.com/applications/cnbc.com/resources/img/editorial/2018/04/18/105140449-GettyImages-2020236.1910x1000.jpg?v=1524065290\" alt=\"image info\" />"
   ]
  },
  {
   "cell_type": "markdown",
   "metadata": {},
   "source": [
    "### Air-Pollution:"
   ]
  },
  {
   "cell_type": "markdown",
   "metadata": {},
   "source": [
    "There are a wide variety of different chemical compounds and hazardous particulate matter in the air across the various states and cities of America. With its large and growing population, coupled with other factors such as increased vehicle ownership, there are subsequent releases of many different contaminants into the air as a result of various combustion processes.\n",
    "\n",
    "As well as this, there are other activities that can release large amounts of coarse or fine particulate matter into the air **(PM10 or PM2.5)**, usually through the disruption of large amounts of earth or rock through various processes such as mining and the extraction of materials, as well as construction sites or other similar areas.\n",
    "\n",
    "Some of these chemical pollutants released from the various combustion sources include ones such as nitrogen dioxide **(NO2)** and sulfur dioxide **(SO2)**, both of which see large amounts of release through vehicular emissions, with nitrogen dioxide being the chief offender here. It can typically be found over areas that see a high volume of traffic, so much so to the point that large accumulations of it are often strong indicators that a majority of pollution in any given area is caused by vehicles.\n",
    "\n",
    "Both of these chemical compounds can contribute to instances of acid rain, as well as causing irritation and inflammation to the lining of the respiratory tract and lungs, causing a myriad of issues that will be discussed in more detail further on.\n",
    "\n",
    "Other pollutants include ones such as black carbon and volatile organic compounds **(VOCs)**, both of which are formed from the incomplete combustion of both fossil fuels and organic matter, and as such can see their creation in vehicle engines, factory boilers and even fireplaces or stoves in people’s homes (essentially anywhere that has a source of combustion taking place).\n",
    "\n",
    "In a similar vein, ozone **(O3)** is also another pollutant of particular concern, mostly due to its prevalence amongst many cities in America. It is created when the various oxides of nitrogen **(NOx)** and other gases or chemicals released from cars and other similar sources, are exposed to sunlight. This causes a chemical reaction that creates ozone, or smog as it is better known when it gathers in large accumulations. Whilst this a vital part of the upper atmosphere, on ground level it can prove to have very negative health effects, hence why it is counted amongst the several pollutants that go into calculating the **AQI**, or air quality index."
   ]
  },
  {
   "cell_type": "markdown",
   "metadata": {},
   "source": [
    "For getting the current air quality of 769 cities of USA ,I will use the links from **kaggle** :**https://www.kaggle.com/mahbubrob/usa-cities** to get the data regarding all cities of USA and I will take help of **Rapid API** to get the **Air quality data** by the link : **https://rapidapi.com/weatherbit/api/air-quality/**"
   ]
  },
  {
   "cell_type": "markdown",
   "metadata": {},
   "source": [
    "## Importing the necessary libraries"
   ]
  },
  {
   "cell_type": "code",
   "execution_count": 18,
   "metadata": {
    "ExecuteTime": {
     "end_time": "2021-06-21T00:14:22.366038Z",
     "start_time": "2021-06-21T00:14:22.350779Z"
    }
   },
   "outputs": [
    {
     "data": {
      "text/html": [
       "        <script type=\"text/javascript\">\n",
       "        window.PlotlyConfig = {MathJaxConfig: 'local'};\n",
       "        if (window.MathJax) {MathJax.Hub.Config({SVG: {font: \"STIX-Web\"}});}\n",
       "        if (typeof require !== 'undefined') {\n",
       "        require.undef(\"plotly\");\n",
       "        requirejs.config({\n",
       "            paths: {\n",
       "                'plotly': ['https://cdn.plot.ly/plotly-latest.min']\n",
       "            }\n",
       "        });\n",
       "        require(['plotly'], function(Plotly) {\n",
       "            window._Plotly = Plotly;\n",
       "        });\n",
       "        }\n",
       "        </script>\n",
       "        "
      ]
     },
     "metadata": {},
     "output_type": "display_data"
    },
    {
     "data": {
      "text/html": [
       "        <script type=\"text/javascript\">\n",
       "        window.PlotlyConfig = {MathJaxConfig: 'local'};\n",
       "        if (window.MathJax) {MathJax.Hub.Config({SVG: {font: \"STIX-Web\"}});}\n",
       "        if (typeof require !== 'undefined') {\n",
       "        require.undef(\"plotly\");\n",
       "        requirejs.config({\n",
       "            paths: {\n",
       "                'plotly': ['https://cdn.plot.ly/plotly-latest.min']\n",
       "            }\n",
       "        });\n",
       "        require(['plotly'], function(Plotly) {\n",
       "            window._Plotly = Plotly;\n",
       "        });\n",
       "        }\n",
       "        </script>\n",
       "        "
      ]
     },
     "metadata": {},
     "output_type": "display_data"
    }
   ],
   "source": [
    "# For data loading e.g(read_csv,read_excel..)\n",
    "import pandas as pd\n",
    "\n",
    "# Seaborn standard import\n",
    "import seaborn as sns\n",
    "\n",
    "import matplotlib\n",
    "%matplotlib inline\n",
    "import matplotlib.pyplot as plt\n",
    "import requests\n",
    "\n",
    "# plotly standard imports\n",
    "import plotly.express as px\n",
    "import plotly.graph_objects as go\n",
    "import chart_studio.plotly as py\n",
    "\n",
    "#Import cufflinks which is the wrapper of plotly\n",
    "import cufflinks as cf\n",
    "\n",
    "#Display all the cell output which will be interactive\n",
    "from IPython.core.interactiveshell import InteractiveShell\n",
    "InteractiveShell.ast_node_interactivity=\"all\"\n",
    "\n",
    "#Set plotly+cufflinks in offline mode\n",
    "from plotly.offline import iplot,init_notebook_mode\n",
    "init_notebook_mode(connected=True)\n",
    "cf.go_offline(connected=True)\n",
    "\n",
    "import warnings\n",
    "warnings.filterwarnings('ignore')"
   ]
  },
  {
   "cell_type": "markdown",
   "metadata": {},
   "source": [
    "### Loading the datasets from kaggle to get all cities of USA and respective latitude and longitude values."
   ]
  },
  {
   "cell_type": "code",
   "execution_count": 2,
   "metadata": {
    "ExecuteTime": {
     "end_time": "2021-06-21T00:06:03.476923Z",
     "start_time": "2021-06-21T00:06:03.455491Z"
    }
   },
   "outputs": [],
   "source": [
    "city=pd.read_csv(\"C:/Users/sushr/Downloads/USA-Cities/usa_cities.csv\")"
   ]
  },
  {
   "cell_type": "code",
   "execution_count": 3,
   "metadata": {
    "ExecuteTime": {
     "end_time": "2021-06-21T00:06:03.541190Z",
     "start_time": "2021-06-21T00:06:03.476923Z"
    }
   },
   "outputs": [
    {
     "data": {
      "text/html": [
       "<div>\n",
       "<style scoped>\n",
       "    .dataframe tbody tr th:only-of-type {\n",
       "        vertical-align: middle;\n",
       "    }\n",
       "\n",
       "    .dataframe tbody tr th {\n",
       "        vertical-align: top;\n",
       "    }\n",
       "\n",
       "    .dataframe thead th {\n",
       "        text-align: right;\n",
       "    }\n",
       "</style>\n",
       "<table border=\"1\" class=\"dataframe\">\n",
       "  <thead>\n",
       "    <tr style=\"text-align: right;\">\n",
       "      <th></th>\n",
       "      <th>city</th>\n",
       "      <th>city_ascii</th>\n",
       "      <th>lat</th>\n",
       "      <th>lng</th>\n",
       "      <th>pop</th>\n",
       "      <th>country</th>\n",
       "      <th>iso2</th>\n",
       "      <th>iso3</th>\n",
       "      <th>province</th>\n",
       "      <th>abbr</th>\n",
       "    </tr>\n",
       "  </thead>\n",
       "  <tbody>\n",
       "    <tr>\n",
       "      <th>0</th>\n",
       "      <td>Calais</td>\n",
       "      <td>Calais</td>\n",
       "      <td>45.165989</td>\n",
       "      <td>-67.242392</td>\n",
       "      <td>1781.5</td>\n",
       "      <td>United States of America</td>\n",
       "      <td>US</td>\n",
       "      <td>USA</td>\n",
       "      <td>Maine</td>\n",
       "      <td>NaN</td>\n",
       "    </tr>\n",
       "    <tr>\n",
       "      <th>1</th>\n",
       "      <td>Houlton</td>\n",
       "      <td>Houlton</td>\n",
       "      <td>46.125517</td>\n",
       "      <td>-67.839720</td>\n",
       "      <td>6051.5</td>\n",
       "      <td>United States of America</td>\n",
       "      <td>US</td>\n",
       "      <td>USA</td>\n",
       "      <td>Maine</td>\n",
       "      <td>NaN</td>\n",
       "    </tr>\n",
       "    <tr>\n",
       "      <th>2</th>\n",
       "      <td>Presque Isle</td>\n",
       "      <td>Presque Isle</td>\n",
       "      <td>46.793409</td>\n",
       "      <td>-68.002165</td>\n",
       "      <td>9466.0</td>\n",
       "      <td>United States of America</td>\n",
       "      <td>US</td>\n",
       "      <td>USA</td>\n",
       "      <td>Maine</td>\n",
       "      <td>NaN</td>\n",
       "    </tr>\n",
       "    <tr>\n",
       "      <th>3</th>\n",
       "      <td>Bar Harbor</td>\n",
       "      <td>Bar Harbor</td>\n",
       "      <td>44.387897</td>\n",
       "      <td>-68.204375</td>\n",
       "      <td>4483.5</td>\n",
       "      <td>United States of America</td>\n",
       "      <td>US</td>\n",
       "      <td>USA</td>\n",
       "      <td>Maine</td>\n",
       "      <td>NaN</td>\n",
       "    </tr>\n",
       "    <tr>\n",
       "      <th>4</th>\n",
       "      <td>Bangor</td>\n",
       "      <td>Bangor</td>\n",
       "      <td>44.801153</td>\n",
       "      <td>-68.778345</td>\n",
       "      <td>40843.0</td>\n",
       "      <td>United States of America</td>\n",
       "      <td>US</td>\n",
       "      <td>USA</td>\n",
       "      <td>Maine</td>\n",
       "      <td>NaN</td>\n",
       "    </tr>\n",
       "    <tr>\n",
       "      <th>...</th>\n",
       "      <td>...</td>\n",
       "      <td>...</td>\n",
       "      <td>...</td>\n",
       "      <td>...</td>\n",
       "      <td>...</td>\n",
       "      <td>...</td>\n",
       "      <td>...</td>\n",
       "      <td>...</td>\n",
       "      <td>...</td>\n",
       "      <td>...</td>\n",
       "    </tr>\n",
       "    <tr>\n",
       "      <th>764</th>\n",
       "      <td>Point Hope</td>\n",
       "      <td>Point Hope</td>\n",
       "      <td>68.347726</td>\n",
       "      <td>-166.808020</td>\n",
       "      <td>461.0</td>\n",
       "      <td>United States of America</td>\n",
       "      <td>US</td>\n",
       "      <td>USA</td>\n",
       "      <td>Alaska</td>\n",
       "      <td>NaN</td>\n",
       "    </tr>\n",
       "    <tr>\n",
       "      <th>765</th>\n",
       "      <td>Wales</td>\n",
       "      <td>Wales</td>\n",
       "      <td>65.609599</td>\n",
       "      <td>-168.087503</td>\n",
       "      <td>99.0</td>\n",
       "      <td>United States of America</td>\n",
       "      <td>US</td>\n",
       "      <td>USA</td>\n",
       "      <td>Alaska</td>\n",
       "      <td>NaN</td>\n",
       "    </tr>\n",
       "    <tr>\n",
       "      <th>766</th>\n",
       "      <td>Nikolski</td>\n",
       "      <td>Nikolski</td>\n",
       "      <td>52.938434</td>\n",
       "      <td>-168.867688</td>\n",
       "      <td>18.0</td>\n",
       "      <td>United States of America</td>\n",
       "      <td>US</td>\n",
       "      <td>USA</td>\n",
       "      <td>Alaska</td>\n",
       "      <td>NaN</td>\n",
       "    </tr>\n",
       "    <tr>\n",
       "      <th>767</th>\n",
       "      <td>Gambell</td>\n",
       "      <td>Gambell</td>\n",
       "      <td>63.779710</td>\n",
       "      <td>-171.731079</td>\n",
       "      <td>681.0</td>\n",
       "      <td>United States of America</td>\n",
       "      <td>US</td>\n",
       "      <td>USA</td>\n",
       "      <td>Alaska</td>\n",
       "      <td>NaN</td>\n",
       "    </tr>\n",
       "    <tr>\n",
       "      <th>768</th>\n",
       "      <td>Atka</td>\n",
       "      <td>Atka</td>\n",
       "      <td>52.196490</td>\n",
       "      <td>-174.200489</td>\n",
       "      <td>61.0</td>\n",
       "      <td>United States of America</td>\n",
       "      <td>US</td>\n",
       "      <td>USA</td>\n",
       "      <td>Alaska</td>\n",
       "      <td>NaN</td>\n",
       "    </tr>\n",
       "  </tbody>\n",
       "</table>\n",
       "<p>769 rows × 10 columns</p>\n",
       "</div>"
      ],
      "text/plain": [
       "             city    city_ascii        lat         lng      pop  \\\n",
       "0          Calais        Calais  45.165989  -67.242392   1781.5   \n",
       "1         Houlton       Houlton  46.125517  -67.839720   6051.5   \n",
       "2    Presque Isle  Presque Isle  46.793409  -68.002165   9466.0   \n",
       "3      Bar Harbor    Bar Harbor  44.387897  -68.204375   4483.5   \n",
       "4          Bangor        Bangor  44.801153  -68.778345  40843.0   \n",
       "..            ...           ...        ...         ...      ...   \n",
       "764    Point Hope    Point Hope  68.347726 -166.808020    461.0   \n",
       "765         Wales         Wales  65.609599 -168.087503     99.0   \n",
       "766      Nikolski      Nikolski  52.938434 -168.867688     18.0   \n",
       "767       Gambell       Gambell  63.779710 -171.731079    681.0   \n",
       "768          Atka          Atka  52.196490 -174.200489     61.0   \n",
       "\n",
       "                      country iso2 iso3 province  abbr  \n",
       "0    United States of America   US  USA    Maine   NaN  \n",
       "1    United States of America   US  USA    Maine   NaN  \n",
       "2    United States of America   US  USA    Maine   NaN  \n",
       "3    United States of America   US  USA    Maine   NaN  \n",
       "4    United States of America   US  USA    Maine   NaN  \n",
       "..                        ...  ...  ...      ...   ...  \n",
       "764  United States of America   US  USA   Alaska   NaN  \n",
       "765  United States of America   US  USA   Alaska   NaN  \n",
       "766  United States of America   US  USA   Alaska   NaN  \n",
       "767  United States of America   US  USA   Alaska   NaN  \n",
       "768  United States of America   US  USA   Alaska   NaN  \n",
       "\n",
       "[769 rows x 10 columns]"
      ]
     },
     "execution_count": 3,
     "metadata": {},
     "output_type": "execute_result"
    }
   ],
   "source": [
    "city"
   ]
  },
  {
   "cell_type": "markdown",
   "metadata": {},
   "source": [
    "As we can see from above dataframe(\"city\"),there are 769 numbers of cities present in the USA and the column(\"city\") contains cities name and the columns(\"lat\" & \"lng\") contain latitude and longitude values."
   ]
  },
  {
   "cell_type": "markdown",
   "metadata": {},
   "source": [
    "## Get data from the API"
   ]
  },
  {
   "cell_type": "markdown",
   "metadata": {},
   "source": [
    "https://rapidapi.com/weatherbit/api/air-quality/\n",
    "\n",
    "The API provides three endpoints: Air Quality History, Current Air Quality and Air Quality Forecast. The **'Current Air Quality'** endpoint was selected for this analysis. Under this endpoint, rapid api offers unlimited numbers of requests per month for  free account.\n",
    "\n",
    "All needed for the request are Latitude and Longitude value of a place. These values are taken for getting the current air quality of USA, which can be looked up on **usa-cities** dataframe from kaggle."
   ]
  },
  {
   "cell_type": "markdown",
   "metadata": {},
   "source": [
    "### Description of the data"
   ]
  },
  {
   "cell_type": "markdown",
   "metadata": {},
   "source": [
    "- lat: Latitude (Degrees).\n",
    "- lon: Longitude (Degrees).\n",
    "- timezone: Local IANA Timezone.\n",
    "- city_name: Nearest city name.\n",
    "- country_code: Country abbreviation.\n",
    "- state_code: State abbreviation/code.state_codes of US: https://en.wikipedia.org/wiki/ISO_3166-2:US#:~:text=Current%20codes%20%20%20%20Code%20%20,%20%20state%20%2053%20more%20rows%20\n",
    "- aqi: Air Quality Index [US - EPA standard 0 - +500]\n",
    "- o3: Concentration of surface O3 (µg/m³)\n",
    "- so2: Concentration of surface SO2 (µg/m³)\n",
    "- no2: Concentration of surface NO2 (µg/m³)\n",
    "- co: Concentration of carbon monoxide (µg/m³)\n",
    "- pm25: Concentration of particulate matter < 2.5 microns (µg/m³)\n",
    "- pm10: Concentration of particulate matter < 10 microns (µg/m³)\n",
    "- pollen_level_tree: Tree pollen level (0 = None, 1 = Low, 2 = Moderate, 3 = High, 4 = Very High)\n",
    "- pollen_level_grass: Grass pollen level (0 = None, 1 = Low, 2 = Moderate, 3 = High, 4 = Very High)\n",
    "- pollen_level_weed: Weed pollen level (0 = None, 1 = Low, 2 = Moderate, 3 = High, 4 = Very High)\n",
    "- mold_level: Mold pollen level (0 = None, 1 = Low, 2 = Moderate, 3 = High, 4 = Very High)\n",
    "- predominant_pollen_type: Predominant pollen type (Trees/Weeds/Molds/Grasses) "
   ]
  },
  {
   "cell_type": "code",
   "execution_count": 4,
   "metadata": {
    "ExecuteTime": {
     "end_time": "2021-06-21T00:12:04.250407Z",
     "start_time": "2021-06-21T00:06:03.541190Z"
    }
   },
   "outputs": [],
   "source": [
    "# creating an empty pandas dataframe (\"usa_cities\")\n",
    "usa_cities=pd.DataFrame()\n",
    "\n",
    "# Keep the range of i till length of the kaggle dataframe(\"city\")\n",
    "for i in range(len(city)):\n",
    "    \n",
    "        url = \"https://air-quality.p.rapidapi.com/current/airquality\"\n",
    "\n",
    "        querystring = {\"lat\":(city.loc[i,\"lat\"]),\"lon\":(city.loc[i,\"lng\"])}\n",
    "\n",
    "        headers = {\n",
    "            'x-rapidapi-key': \"78ac36594fmsh463a4013612e25ep152223jsn647171b1d90f\",\n",
    "            'x-rapidapi-host': \"air-quality.p.rapidapi.com\"\n",
    "            }\n",
    "\n",
    "        response_current1 = requests.request(\"GET\", url, headers=headers, params=querystring)\n",
    "        response_current1=response_current1.json()\n",
    "        some_file=pd.json_normalize(data=response_current1,record_path=\"data\",meta=[\"city_name\",\"lon\",\"timezone\",\"lat\",\"country_code\",\"state_code\"])\n",
    "\n",
    "        # Appending the pandas dataframe (\"some_file\") to the created empty dataframe (\"usa_cities\")\n",
    "        usa_cities= usa_cities.append(some_file,ignore_index=True)\n",
    "    "
   ]
  },
  {
   "cell_type": "code",
   "execution_count": 5,
   "metadata": {
    "ExecuteTime": {
     "end_time": "2021-06-21T00:12:04.325570Z",
     "start_time": "2021-06-21T00:12:04.250407Z"
    }
   },
   "outputs": [
    {
     "data": {
      "text/html": [
       "<div>\n",
       "<style scoped>\n",
       "    .dataframe tbody tr th:only-of-type {\n",
       "        vertical-align: middle;\n",
       "    }\n",
       "\n",
       "    .dataframe tbody tr th {\n",
       "        vertical-align: top;\n",
       "    }\n",
       "\n",
       "    .dataframe thead th {\n",
       "        text-align: right;\n",
       "    }\n",
       "</style>\n",
       "<table border=\"1\" class=\"dataframe\">\n",
       "  <thead>\n",
       "    <tr style=\"text-align: right;\">\n",
       "      <th></th>\n",
       "      <th>mold_level</th>\n",
       "      <th>aqi</th>\n",
       "      <th>pm10</th>\n",
       "      <th>co</th>\n",
       "      <th>o3</th>\n",
       "      <th>predominant_pollen_type</th>\n",
       "      <th>so2</th>\n",
       "      <th>pollen_level_tree</th>\n",
       "      <th>pollen_level_weed</th>\n",
       "      <th>no2</th>\n",
       "      <th>pm25</th>\n",
       "      <th>pollen_level_grass</th>\n",
       "      <th>city_name</th>\n",
       "      <th>lon</th>\n",
       "      <th>timezone</th>\n",
       "      <th>lat</th>\n",
       "      <th>country_code</th>\n",
       "      <th>state_code</th>\n",
       "    </tr>\n",
       "  </thead>\n",
       "  <tbody>\n",
       "    <tr>\n",
       "      <th>0</th>\n",
       "      <td>0</td>\n",
       "      <td>31</td>\n",
       "      <td>4.716110</td>\n",
       "      <td>399.292</td>\n",
       "      <td>68.0000</td>\n",
       "      <td>Molds</td>\n",
       "      <td>0.067172</td>\n",
       "      <td>0</td>\n",
       "      <td>0</td>\n",
       "      <td>2.37767</td>\n",
       "      <td>3.247730</td>\n",
       "      <td>0</td>\n",
       "      <td>Whitlocks Mill</td>\n",
       "      <td>-67.24</td>\n",
       "      <td>America/New_York</td>\n",
       "      <td>45.17</td>\n",
       "      <td>US</td>\n",
       "      <td>ME</td>\n",
       "    </tr>\n",
       "    <tr>\n",
       "      <th>1</th>\n",
       "      <td>0</td>\n",
       "      <td>30</td>\n",
       "      <td>0.441512</td>\n",
       "      <td>302.911</td>\n",
       "      <td>64.7306</td>\n",
       "      <td>Molds</td>\n",
       "      <td>0.069500</td>\n",
       "      <td>0</td>\n",
       "      <td>0</td>\n",
       "      <td>3.37907</td>\n",
       "      <td>0.236421</td>\n",
       "      <td>0</td>\n",
       "      <td>VA Boston Healthcare System, West Roxbury Campus</td>\n",
       "      <td>-67.84</td>\n",
       "      <td>America/New_York</td>\n",
       "      <td>46.13</td>\n",
       "      <td>US</td>\n",
       "      <td>ME</td>\n",
       "    </tr>\n",
       "    <tr>\n",
       "      <th>2</th>\n",
       "      <td>0</td>\n",
       "      <td>26</td>\n",
       "      <td>9.000000</td>\n",
       "      <td>160.300</td>\n",
       "      <td>56.0000</td>\n",
       "      <td>Molds</td>\n",
       "      <td>0.000000</td>\n",
       "      <td>0</td>\n",
       "      <td>0</td>\n",
       "      <td>0.00000</td>\n",
       "      <td>5.900000</td>\n",
       "      <td>0</td>\n",
       "      <td>McGraw</td>\n",
       "      <td>-68</td>\n",
       "      <td>America/New_York</td>\n",
       "      <td>46.79</td>\n",
       "      <td>US</td>\n",
       "      <td>ME</td>\n",
       "    </tr>\n",
       "    <tr>\n",
       "      <th>3</th>\n",
       "      <td>0</td>\n",
       "      <td>38</td>\n",
       "      <td>6.283240</td>\n",
       "      <td>437.260</td>\n",
       "      <td>82.0000</td>\n",
       "      <td>Molds</td>\n",
       "      <td>0.000000</td>\n",
       "      <td>0</td>\n",
       "      <td>0</td>\n",
       "      <td>3.52366</td>\n",
       "      <td>3.700000</td>\n",
       "      <td>0</td>\n",
       "      <td>Bar Harbor</td>\n",
       "      <td>-68.2</td>\n",
       "      <td>America/New_York</td>\n",
       "      <td>44.39</td>\n",
       "      <td>US</td>\n",
       "      <td>ME</td>\n",
       "    </tr>\n",
       "    <tr>\n",
       "      <th>4</th>\n",
       "      <td>0</td>\n",
       "      <td>33</td>\n",
       "      <td>2.387890</td>\n",
       "      <td>367.165</td>\n",
       "      <td>72.0000</td>\n",
       "      <td>Molds</td>\n",
       "      <td>0.056403</td>\n",
       "      <td>0</td>\n",
       "      <td>0</td>\n",
       "      <td>9.38214</td>\n",
       "      <td>1.790920</td>\n",
       "      <td>0</td>\n",
       "      <td>Bangor</td>\n",
       "      <td>-68.78</td>\n",
       "      <td>America/New_York</td>\n",
       "      <td>44.8</td>\n",
       "      <td>US</td>\n",
       "      <td>ME</td>\n",
       "    </tr>\n",
       "  </tbody>\n",
       "</table>\n",
       "</div>"
      ],
      "text/plain": [
       "   mold_level  aqi      pm10       co       o3 predominant_pollen_type  \\\n",
       "0           0   31  4.716110  399.292  68.0000                   Molds   \n",
       "1           0   30  0.441512  302.911  64.7306                   Molds   \n",
       "2           0   26  9.000000  160.300  56.0000                   Molds   \n",
       "3           0   38  6.283240  437.260  82.0000                   Molds   \n",
       "4           0   33  2.387890  367.165  72.0000                   Molds   \n",
       "\n",
       "        so2  pollen_level_tree  pollen_level_weed      no2      pm25  \\\n",
       "0  0.067172                  0                  0  2.37767  3.247730   \n",
       "1  0.069500                  0                  0  3.37907  0.236421   \n",
       "2  0.000000                  0                  0  0.00000  5.900000   \n",
       "3  0.000000                  0                  0  3.52366  3.700000   \n",
       "4  0.056403                  0                  0  9.38214  1.790920   \n",
       "\n",
       "   pollen_level_grass                                         city_name  \\\n",
       "0                   0                                    Whitlocks Mill   \n",
       "1                   0  VA Boston Healthcare System, West Roxbury Campus   \n",
       "2                   0                                            McGraw   \n",
       "3                   0                                        Bar Harbor   \n",
       "4                   0                                            Bangor   \n",
       "\n",
       "     lon          timezone    lat country_code state_code  \n",
       "0 -67.24  America/New_York  45.17           US         ME  \n",
       "1 -67.84  America/New_York  46.13           US         ME  \n",
       "2    -68  America/New_York  46.79           US         ME  \n",
       "3  -68.2  America/New_York  44.39           US         ME  \n",
       "4 -68.78  America/New_York   44.8           US         ME  "
      ]
     },
     "execution_count": 5,
     "metadata": {},
     "output_type": "execute_result"
    }
   ],
   "source": [
    "usa_cities.head()"
   ]
  },
  {
   "cell_type": "code",
   "execution_count": 6,
   "metadata": {
    "ExecuteTime": {
     "end_time": "2021-06-21T00:12:04.341574Z",
     "start_time": "2021-06-21T00:12:04.333578Z"
    }
   },
   "outputs": [
    {
     "data": {
      "text/plain": [
       "(769, 18)"
      ]
     },
     "execution_count": 6,
     "metadata": {},
     "output_type": "execute_result"
    }
   ],
   "source": [
    "# checking the shape\n",
    "usa_cities.shape"
   ]
  },
  {
   "cell_type": "code",
   "execution_count": 7,
   "metadata": {
    "ExecuteTime": {
     "end_time": "2021-06-21T00:12:04.365572Z",
     "start_time": "2021-06-21T00:12:04.349568Z"
    }
   },
   "outputs": [
    {
     "data": {
      "text/plain": [
       "Index(['mold_level', 'aqi', 'pm10', 'co', 'o3', 'predominant_pollen_type',\n",
       "       'so2', 'pollen_level_tree', 'pollen_level_weed', 'no2', 'pm25',\n",
       "       'pollen_level_grass', 'city_name', 'lon', 'timezone', 'lat',\n",
       "       'country_code', 'state_code'],\n",
       "      dtype='object')"
      ]
     },
     "execution_count": 7,
     "metadata": {},
     "output_type": "execute_result"
    }
   ],
   "source": [
    "# checking the columns name\n",
    "usa_cities.columns"
   ]
  },
  {
   "cell_type": "code",
   "execution_count": 8,
   "metadata": {
    "ExecuteTime": {
     "end_time": "2021-06-21T00:12:04.381568Z",
     "start_time": "2021-06-21T00:12:04.365572Z"
    }
   },
   "outputs": [],
   "source": [
    "# dropping unused columns\n",
    "usa_cities.drop(columns=[\"predominant_pollen_type\",\"pollen_level_tree\",'mold_level','pollen_level_weed','pollen_level_grass','timezone','country_code'],inplace=True)"
   ]
  },
  {
   "cell_type": "code",
   "execution_count": 9,
   "metadata": {
    "ExecuteTime": {
     "end_time": "2021-06-21T00:12:04.429567Z",
     "start_time": "2021-06-21T00:12:04.381568Z"
    }
   },
   "outputs": [
    {
     "data": {
      "text/html": [
       "<div>\n",
       "<style scoped>\n",
       "    .dataframe tbody tr th:only-of-type {\n",
       "        vertical-align: middle;\n",
       "    }\n",
       "\n",
       "    .dataframe tbody tr th {\n",
       "        vertical-align: top;\n",
       "    }\n",
       "\n",
       "    .dataframe thead th {\n",
       "        text-align: right;\n",
       "    }\n",
       "</style>\n",
       "<table border=\"1\" class=\"dataframe\">\n",
       "  <thead>\n",
       "    <tr style=\"text-align: right;\">\n",
       "      <th></th>\n",
       "      <th>aqi</th>\n",
       "      <th>pm10</th>\n",
       "      <th>co</th>\n",
       "      <th>o3</th>\n",
       "      <th>so2</th>\n",
       "      <th>no2</th>\n",
       "      <th>pm25</th>\n",
       "      <th>city_name</th>\n",
       "      <th>lon</th>\n",
       "      <th>lat</th>\n",
       "      <th>state_code</th>\n",
       "    </tr>\n",
       "  </thead>\n",
       "  <tbody>\n",
       "    <tr>\n",
       "      <th>0</th>\n",
       "      <td>31</td>\n",
       "      <td>4.716110</td>\n",
       "      <td>399.292</td>\n",
       "      <td>68.0000</td>\n",
       "      <td>0.067172</td>\n",
       "      <td>2.37767</td>\n",
       "      <td>3.247730</td>\n",
       "      <td>Whitlocks Mill</td>\n",
       "      <td>-67.24</td>\n",
       "      <td>45.17</td>\n",
       "      <td>ME</td>\n",
       "    </tr>\n",
       "    <tr>\n",
       "      <th>1</th>\n",
       "      <td>30</td>\n",
       "      <td>0.441512</td>\n",
       "      <td>302.911</td>\n",
       "      <td>64.7306</td>\n",
       "      <td>0.069500</td>\n",
       "      <td>3.37907</td>\n",
       "      <td>0.236421</td>\n",
       "      <td>VA Boston Healthcare System, West Roxbury Campus</td>\n",
       "      <td>-67.84</td>\n",
       "      <td>46.13</td>\n",
       "      <td>ME</td>\n",
       "    </tr>\n",
       "    <tr>\n",
       "      <th>2</th>\n",
       "      <td>26</td>\n",
       "      <td>9.000000</td>\n",
       "      <td>160.300</td>\n",
       "      <td>56.0000</td>\n",
       "      <td>0.000000</td>\n",
       "      <td>0.00000</td>\n",
       "      <td>5.900000</td>\n",
       "      <td>McGraw</td>\n",
       "      <td>-68</td>\n",
       "      <td>46.79</td>\n",
       "      <td>ME</td>\n",
       "    </tr>\n",
       "    <tr>\n",
       "      <th>3</th>\n",
       "      <td>38</td>\n",
       "      <td>6.283240</td>\n",
       "      <td>437.260</td>\n",
       "      <td>82.0000</td>\n",
       "      <td>0.000000</td>\n",
       "      <td>3.52366</td>\n",
       "      <td>3.700000</td>\n",
       "      <td>Bar Harbor</td>\n",
       "      <td>-68.2</td>\n",
       "      <td>44.39</td>\n",
       "      <td>ME</td>\n",
       "    </tr>\n",
       "    <tr>\n",
       "      <th>4</th>\n",
       "      <td>33</td>\n",
       "      <td>2.387890</td>\n",
       "      <td>367.165</td>\n",
       "      <td>72.0000</td>\n",
       "      <td>0.056403</td>\n",
       "      <td>9.38214</td>\n",
       "      <td>1.790920</td>\n",
       "      <td>Bangor</td>\n",
       "      <td>-68.78</td>\n",
       "      <td>44.8</td>\n",
       "      <td>ME</td>\n",
       "    </tr>\n",
       "  </tbody>\n",
       "</table>\n",
       "</div>"
      ],
      "text/plain": [
       "   aqi      pm10       co       o3       so2      no2      pm25  \\\n",
       "0   31  4.716110  399.292  68.0000  0.067172  2.37767  3.247730   \n",
       "1   30  0.441512  302.911  64.7306  0.069500  3.37907  0.236421   \n",
       "2   26  9.000000  160.300  56.0000  0.000000  0.00000  5.900000   \n",
       "3   38  6.283240  437.260  82.0000  0.000000  3.52366  3.700000   \n",
       "4   33  2.387890  367.165  72.0000  0.056403  9.38214  1.790920   \n",
       "\n",
       "                                          city_name    lon    lat state_code  \n",
       "0                                    Whitlocks Mill -67.24  45.17         ME  \n",
       "1  VA Boston Healthcare System, West Roxbury Campus -67.84  46.13         ME  \n",
       "2                                            McGraw    -68  46.79         ME  \n",
       "3                                        Bar Harbor  -68.2  44.39         ME  \n",
       "4                                            Bangor -68.78   44.8         ME  "
      ]
     },
     "execution_count": 9,
     "metadata": {},
     "output_type": "execute_result"
    }
   ],
   "source": [
    "usa_cities.head()"
   ]
  },
  {
   "cell_type": "code",
   "execution_count": 10,
   "metadata": {
    "ExecuteTime": {
     "end_time": "2021-06-21T00:12:04.461579Z",
     "start_time": "2021-06-21T00:12:04.429567Z"
    }
   },
   "outputs": [
    {
     "name": "stdout",
     "output_type": "stream",
     "text": [
      "<class 'pandas.core.frame.DataFrame'>\n",
      "RangeIndex: 769 entries, 0 to 768\n",
      "Data columns (total 11 columns):\n",
      " #   Column      Non-Null Count  Dtype  \n",
      "---  ------      --------------  -----  \n",
      " 0   aqi         769 non-null    int64  \n",
      " 1   pm10        769 non-null    float64\n",
      " 2   co          769 non-null    float64\n",
      " 3   o3          769 non-null    float64\n",
      " 4   so2         769 non-null    float64\n",
      " 5   no2         769 non-null    float64\n",
      " 6   pm25        769 non-null    float64\n",
      " 7   city_name   769 non-null    object \n",
      " 8   lon         769 non-null    object \n",
      " 9   lat         769 non-null    object \n",
      " 10  state_code  769 non-null    object \n",
      "dtypes: float64(6), int64(1), object(4)\n",
      "memory usage: 66.2+ KB\n"
     ]
    }
   ],
   "source": [
    "usa_cities.info()"
   ]
  },
  {
   "cell_type": "markdown",
   "metadata": {},
   "source": [
    "### checking the duplicate values"
   ]
  },
  {
   "cell_type": "code",
   "execution_count": 11,
   "metadata": {
    "ExecuteTime": {
     "end_time": "2021-06-21T00:12:04.493570Z",
     "start_time": "2021-06-21T00:12:04.461579Z"
    }
   },
   "outputs": [
    {
     "data": {
      "text/plain": [
       "0"
      ]
     },
     "execution_count": 11,
     "metadata": {},
     "output_type": "execute_result"
    }
   ],
   "source": [
    "#check duplicates\n",
    "usa_cities.duplicated().sum()"
   ]
  },
  {
   "cell_type": "markdown",
   "metadata": {},
   "source": [
    "### checking the missing values"
   ]
  },
  {
   "cell_type": "code",
   "execution_count": 12,
   "metadata": {
    "ExecuteTime": {
     "end_time": "2021-06-21T00:12:04.525572Z",
     "start_time": "2021-06-21T00:12:04.493570Z"
    }
   },
   "outputs": [
    {
     "data": {
      "text/plain": [
       "aqi           0\n",
       "pm10          0\n",
       "co            0\n",
       "o3            0\n",
       "so2           0\n",
       "no2           0\n",
       "pm25          0\n",
       "city_name     0\n",
       "lon           0\n",
       "lat           0\n",
       "state_code    0\n",
       "dtype: int64"
      ]
     },
     "execution_count": 12,
     "metadata": {},
     "output_type": "execute_result"
    }
   ],
   "source": [
    "usa_cities.isna().sum()"
   ]
  },
  {
   "cell_type": "markdown",
   "metadata": {},
   "source": [
    "From above we can see that,there are no missing or NaN values present in the dataframe. So **\"usa_cities\"** is the cleaned dataset."
   ]
  },
  {
   "cell_type": "code",
   "execution_count": 13,
   "metadata": {
    "ExecuteTime": {
     "end_time": "2021-06-21T00:12:04.557565Z",
     "start_time": "2021-06-21T00:12:04.525572Z"
    }
   },
   "outputs": [
    {
     "data": {
      "text/html": [
       "<div>\n",
       "<style scoped>\n",
       "    .dataframe tbody tr th:only-of-type {\n",
       "        vertical-align: middle;\n",
       "    }\n",
       "\n",
       "    .dataframe tbody tr th {\n",
       "        vertical-align: top;\n",
       "    }\n",
       "\n",
       "    .dataframe thead th {\n",
       "        text-align: right;\n",
       "    }\n",
       "</style>\n",
       "<table border=\"1\" class=\"dataframe\">\n",
       "  <thead>\n",
       "    <tr style=\"text-align: right;\">\n",
       "      <th></th>\n",
       "      <th>aqi</th>\n",
       "      <th>pm10</th>\n",
       "      <th>co</th>\n",
       "      <th>o3</th>\n",
       "      <th>so2</th>\n",
       "      <th>no2</th>\n",
       "      <th>pm25</th>\n",
       "      <th>city_name</th>\n",
       "      <th>lon</th>\n",
       "      <th>lat</th>\n",
       "      <th>state_code</th>\n",
       "    </tr>\n",
       "  </thead>\n",
       "  <tbody>\n",
       "    <tr>\n",
       "      <th>0</th>\n",
       "      <td>31</td>\n",
       "      <td>4.716110</td>\n",
       "      <td>399.292</td>\n",
       "      <td>68.0000</td>\n",
       "      <td>0.067172</td>\n",
       "      <td>2.377670</td>\n",
       "      <td>3.247730</td>\n",
       "      <td>Whitlocks Mill</td>\n",
       "      <td>-67.24</td>\n",
       "      <td>45.17</td>\n",
       "      <td>ME</td>\n",
       "    </tr>\n",
       "    <tr>\n",
       "      <th>1</th>\n",
       "      <td>30</td>\n",
       "      <td>0.441512</td>\n",
       "      <td>302.911</td>\n",
       "      <td>64.7306</td>\n",
       "      <td>0.069500</td>\n",
       "      <td>3.379070</td>\n",
       "      <td>0.236421</td>\n",
       "      <td>VA Boston Healthcare System, West Roxbury Campus</td>\n",
       "      <td>-67.84</td>\n",
       "      <td>46.13</td>\n",
       "      <td>ME</td>\n",
       "    </tr>\n",
       "    <tr>\n",
       "      <th>2</th>\n",
       "      <td>26</td>\n",
       "      <td>9.000000</td>\n",
       "      <td>160.300</td>\n",
       "      <td>56.0000</td>\n",
       "      <td>0.000000</td>\n",
       "      <td>0.000000</td>\n",
       "      <td>5.900000</td>\n",
       "      <td>McGraw</td>\n",
       "      <td>-68</td>\n",
       "      <td>46.79</td>\n",
       "      <td>ME</td>\n",
       "    </tr>\n",
       "    <tr>\n",
       "      <th>3</th>\n",
       "      <td>38</td>\n",
       "      <td>6.283240</td>\n",
       "      <td>437.260</td>\n",
       "      <td>82.0000</td>\n",
       "      <td>0.000000</td>\n",
       "      <td>3.523660</td>\n",
       "      <td>3.700000</td>\n",
       "      <td>Bar Harbor</td>\n",
       "      <td>-68.2</td>\n",
       "      <td>44.39</td>\n",
       "      <td>ME</td>\n",
       "    </tr>\n",
       "    <tr>\n",
       "      <th>4</th>\n",
       "      <td>33</td>\n",
       "      <td>2.387890</td>\n",
       "      <td>367.165</td>\n",
       "      <td>72.0000</td>\n",
       "      <td>0.056403</td>\n",
       "      <td>9.382140</td>\n",
       "      <td>1.790920</td>\n",
       "      <td>Bangor</td>\n",
       "      <td>-68.78</td>\n",
       "      <td>44.8</td>\n",
       "      <td>ME</td>\n",
       "    </tr>\n",
       "    <tr>\n",
       "      <th>...</th>\n",
       "      <td>...</td>\n",
       "      <td>...</td>\n",
       "      <td>...</td>\n",
       "      <td>...</td>\n",
       "      <td>...</td>\n",
       "      <td>...</td>\n",
       "      <td>...</td>\n",
       "      <td>...</td>\n",
       "      <td>...</td>\n",
       "      <td>...</td>\n",
       "      <td>...</td>\n",
       "    </tr>\n",
       "    <tr>\n",
       "      <th>764</th>\n",
       "      <td>25</td>\n",
       "      <td>1.373020</td>\n",
       "      <td>275.373</td>\n",
       "      <td>55.0747</td>\n",
       "      <td>0.096508</td>\n",
       "      <td>0.014643</td>\n",
       "      <td>0.916909</td>\n",
       "      <td>Point Hope</td>\n",
       "      <td>-166.81</td>\n",
       "      <td>68.35</td>\n",
       "      <td>AK</td>\n",
       "    </tr>\n",
       "    <tr>\n",
       "      <th>765</th>\n",
       "      <td>25</td>\n",
       "      <td>3.888040</td>\n",
       "      <td>286.639</td>\n",
       "      <td>54.0912</td>\n",
       "      <td>0.246800</td>\n",
       "      <td>0.066353</td>\n",
       "      <td>2.765720</td>\n",
       "      <td>Wales</td>\n",
       "      <td>-168.09</td>\n",
       "      <td>65.61</td>\n",
       "      <td>AK</td>\n",
       "    </tr>\n",
       "    <tr>\n",
       "      <th>766</th>\n",
       "      <td>41</td>\n",
       "      <td>2.245910</td>\n",
       "      <td>264.943</td>\n",
       "      <td>87.7976</td>\n",
       "      <td>0.378583</td>\n",
       "      <td>0.183747</td>\n",
       "      <td>0.812543</td>\n",
       "      <td>Nikolski</td>\n",
       "      <td>-168.87</td>\n",
       "      <td>52.94</td>\n",
       "      <td>AK</td>\n",
       "    </tr>\n",
       "    <tr>\n",
       "      <th>767</th>\n",
       "      <td>25</td>\n",
       "      <td>0.459451</td>\n",
       "      <td>282.049</td>\n",
       "      <td>54.0912</td>\n",
       "      <td>0.026106</td>\n",
       "      <td>0.152788</td>\n",
       "      <td>0.459167</td>\n",
       "      <td>Gambell</td>\n",
       "      <td>-171.73</td>\n",
       "      <td>63.78</td>\n",
       "      <td>AK</td>\n",
       "    </tr>\n",
       "    <tr>\n",
       "      <th>768</th>\n",
       "      <td>34</td>\n",
       "      <td>3.465680</td>\n",
       "      <td>246.584</td>\n",
       "      <td>73.0455</td>\n",
       "      <td>0.469852</td>\n",
       "      <td>0.567641</td>\n",
       "      <td>1.253790</td>\n",
       "      <td>Atka</td>\n",
       "      <td>-174.2</td>\n",
       "      <td>52.2</td>\n",
       "      <td>AK</td>\n",
       "    </tr>\n",
       "  </tbody>\n",
       "</table>\n",
       "<p>769 rows × 11 columns</p>\n",
       "</div>"
      ],
      "text/plain": [
       "     aqi      pm10       co       o3       so2       no2      pm25  \\\n",
       "0     31  4.716110  399.292  68.0000  0.067172  2.377670  3.247730   \n",
       "1     30  0.441512  302.911  64.7306  0.069500  3.379070  0.236421   \n",
       "2     26  9.000000  160.300  56.0000  0.000000  0.000000  5.900000   \n",
       "3     38  6.283240  437.260  82.0000  0.000000  3.523660  3.700000   \n",
       "4     33  2.387890  367.165  72.0000  0.056403  9.382140  1.790920   \n",
       "..   ...       ...      ...      ...       ...       ...       ...   \n",
       "764   25  1.373020  275.373  55.0747  0.096508  0.014643  0.916909   \n",
       "765   25  3.888040  286.639  54.0912  0.246800  0.066353  2.765720   \n",
       "766   41  2.245910  264.943  87.7976  0.378583  0.183747  0.812543   \n",
       "767   25  0.459451  282.049  54.0912  0.026106  0.152788  0.459167   \n",
       "768   34  3.465680  246.584  73.0455  0.469852  0.567641  1.253790   \n",
       "\n",
       "                                            city_name     lon    lat  \\\n",
       "0                                      Whitlocks Mill  -67.24  45.17   \n",
       "1    VA Boston Healthcare System, West Roxbury Campus  -67.84  46.13   \n",
       "2                                              McGraw     -68  46.79   \n",
       "3                                          Bar Harbor   -68.2  44.39   \n",
       "4                                              Bangor  -68.78   44.8   \n",
       "..                                                ...     ...    ...   \n",
       "764                                        Point Hope -166.81  68.35   \n",
       "765                                             Wales -168.09  65.61   \n",
       "766                                          Nikolski -168.87  52.94   \n",
       "767                                           Gambell -171.73  63.78   \n",
       "768                                              Atka  -174.2   52.2   \n",
       "\n",
       "    state_code  \n",
       "0           ME  \n",
       "1           ME  \n",
       "2           ME  \n",
       "3           ME  \n",
       "4           ME  \n",
       "..         ...  \n",
       "764         AK  \n",
       "765         AK  \n",
       "766         AK  \n",
       "767         AK  \n",
       "768         AK  \n",
       "\n",
       "[769 rows x 11 columns]"
      ]
     },
     "execution_count": 13,
     "metadata": {},
     "output_type": "execute_result"
    }
   ],
   "source": [
    "usa_cities"
   ]
  },
  {
   "cell_type": "markdown",
   "metadata": {},
   "source": [
    "### Saving the dataset"
   ]
  },
  {
   "cell_type": "code",
   "execution_count": 14,
   "metadata": {
    "ExecuteTime": {
     "end_time": "2021-06-21T00:12:04.573569Z",
     "start_time": "2021-06-21T00:12:04.557565Z"
    }
   },
   "outputs": [],
   "source": [
    "#usa_cities.to_csv('usa_cities.csv')"
   ]
  },
  {
   "cell_type": "markdown",
   "metadata": {},
   "source": [
    "## Data Analysis"
   ]
  },
  {
   "cell_type": "code",
   "execution_count": 15,
   "metadata": {
    "ExecuteTime": {
     "end_time": "2021-06-21T00:12:04.621566Z",
     "start_time": "2021-06-21T00:12:04.573569Z"
    }
   },
   "outputs": [
    {
     "data": {
      "text/html": [
       "<div>\n",
       "<style scoped>\n",
       "    .dataframe tbody tr th:only-of-type {\n",
       "        vertical-align: middle;\n",
       "    }\n",
       "\n",
       "    .dataframe tbody tr th {\n",
       "        vertical-align: top;\n",
       "    }\n",
       "\n",
       "    .dataframe thead th {\n",
       "        text-align: right;\n",
       "    }\n",
       "</style>\n",
       "<table border=\"1\" class=\"dataframe\">\n",
       "  <thead>\n",
       "    <tr style=\"text-align: right;\">\n",
       "      <th></th>\n",
       "      <th>aqi</th>\n",
       "      <th>pm10</th>\n",
       "      <th>co</th>\n",
       "      <th>o3</th>\n",
       "      <th>so2</th>\n",
       "      <th>no2</th>\n",
       "      <th>pm25</th>\n",
       "    </tr>\n",
       "  </thead>\n",
       "  <tbody>\n",
       "    <tr>\n",
       "      <th>count</th>\n",
       "      <td>769.000000</td>\n",
       "      <td>769.000000</td>\n",
       "      <td>769.000000</td>\n",
       "      <td>769.000000</td>\n",
       "      <td>769.000000</td>\n",
       "      <td>769.000000</td>\n",
       "      <td>769.000000</td>\n",
       "    </tr>\n",
       "    <tr>\n",
       "      <th>mean</th>\n",
       "      <td>41.310793</td>\n",
       "      <td>12.960416</td>\n",
       "      <td>297.377730</td>\n",
       "      <td>75.846058</td>\n",
       "      <td>0.580016</td>\n",
       "      <td>2.371434</td>\n",
       "      <td>6.205910</td>\n",
       "    </tr>\n",
       "    <tr>\n",
       "      <th>std</th>\n",
       "      <td>21.735589</td>\n",
       "      <td>21.103880</td>\n",
       "      <td>89.132548</td>\n",
       "      <td>29.354816</td>\n",
       "      <td>0.708251</td>\n",
       "      <td>2.968991</td>\n",
       "      <td>9.465865</td>\n",
       "    </tr>\n",
       "    <tr>\n",
       "      <th>min</th>\n",
       "      <td>0.000000</td>\n",
       "      <td>0.000000</td>\n",
       "      <td>0.000000</td>\n",
       "      <td>0.000000</td>\n",
       "      <td>0.000000</td>\n",
       "      <td>0.000000</td>\n",
       "      <td>0.000000</td>\n",
       "    </tr>\n",
       "    <tr>\n",
       "      <th>25%</th>\n",
       "      <td>28.000000</td>\n",
       "      <td>2.031300</td>\n",
       "      <td>251.174000</td>\n",
       "      <td>50.872600</td>\n",
       "      <td>0.107335</td>\n",
       "      <td>0.448490</td>\n",
       "      <td>1.201500</td>\n",
       "    </tr>\n",
       "    <tr>\n",
       "      <th>50%</th>\n",
       "      <td>38.000000</td>\n",
       "      <td>5.971320</td>\n",
       "      <td>294.149000</td>\n",
       "      <td>75.000000</td>\n",
       "      <td>0.406057</td>\n",
       "      <td>1.250000</td>\n",
       "      <td>3.418650</td>\n",
       "    </tr>\n",
       "    <tr>\n",
       "      <th>75%</th>\n",
       "      <td>51.000000</td>\n",
       "      <td>15.000000</td>\n",
       "      <td>354.648000</td>\n",
       "      <td>98.000000</td>\n",
       "      <td>0.800006</td>\n",
       "      <td>3.271970</td>\n",
       "      <td>8.000000</td>\n",
       "    </tr>\n",
       "    <tr>\n",
       "      <th>max</th>\n",
       "      <td>253.000000</td>\n",
       "      <td>282.000000</td>\n",
       "      <td>687.000000</td>\n",
       "      <td>157.500000</td>\n",
       "      <td>6.250000</td>\n",
       "      <td>30.000000</td>\n",
       "      <td>132.734000</td>\n",
       "    </tr>\n",
       "  </tbody>\n",
       "</table>\n",
       "</div>"
      ],
      "text/plain": [
       "              aqi        pm10          co          o3         so2         no2  \\\n",
       "count  769.000000  769.000000  769.000000  769.000000  769.000000  769.000000   \n",
       "mean    41.310793   12.960416  297.377730   75.846058    0.580016    2.371434   \n",
       "std     21.735589   21.103880   89.132548   29.354816    0.708251    2.968991   \n",
       "min      0.000000    0.000000    0.000000    0.000000    0.000000    0.000000   \n",
       "25%     28.000000    2.031300  251.174000   50.872600    0.107335    0.448490   \n",
       "50%     38.000000    5.971320  294.149000   75.000000    0.406057    1.250000   \n",
       "75%     51.000000   15.000000  354.648000   98.000000    0.800006    3.271970   \n",
       "max    253.000000  282.000000  687.000000  157.500000    6.250000   30.000000   \n",
       "\n",
       "             pm25  \n",
       "count  769.000000  \n",
       "mean     6.205910  \n",
       "std      9.465865  \n",
       "min      0.000000  \n",
       "25%      1.201500  \n",
       "50%      3.418650  \n",
       "75%      8.000000  \n",
       "max    132.734000  "
      ]
     },
     "execution_count": 15,
     "metadata": {},
     "output_type": "execute_result"
    }
   ],
   "source": [
    "usa_cities.describe()"
   ]
  },
  {
   "cell_type": "markdown",
   "metadata": {},
   "source": [
    "### Finding the correlation between pollutants"
   ]
  },
  {
   "cell_type": "code",
   "execution_count": 16,
   "metadata": {
    "ExecuteTime": {
     "end_time": "2021-06-21T00:12:04.637566Z",
     "start_time": "2021-06-21T00:12:04.621566Z"
    }
   },
   "outputs": [],
   "source": [
    "numeric=usa_cities[['aqi','pm10', 'co', 'o3', 'so2', 'no2', 'pm25']]"
   ]
  },
  {
   "cell_type": "code",
   "execution_count": 19,
   "metadata": {
    "ExecuteTime": {
     "end_time": "2021-06-21T00:14:42.861705Z",
     "start_time": "2021-06-21T00:14:42.423323Z"
    }
   },
   "outputs": [
    {
     "data": {
      "image/png": "[encoded data removed]",
      "text/plain": [
       "<Figure size 720x720 with 2 Axes>"
      ]
     },
     "metadata": {
      "needs_background": "light"
     },
     "output_type": "display_data"
    }
   ],
   "source": [
    "corr = numeric.corr(method='pearson')\n",
    "fig = plt.figure(figsize=(10,10))\n",
    "ax = fig.add_subplot(111)\n",
    "cax = ax.matshow(corr,cmap='coolwarm', vmin=-1, vmax=1)\n",
    "fig.colorbar(cax)\n",
    "ticks = np.arange(0,len(numeric.columns),1)\n",
    "ax.set_xticks(ticks)\n",
    "plt.xticks(rotation=90)\n",
    "ax.set_yticks(ticks)\n",
    "ax.set_xticklabels(numeric.columns)\n",
    "ax.set_yticklabels(numeric.columns)\n",
    "plt.show();"
   ]
  },
  {
   "cell_type": "markdown",
   "metadata": {
    "ExecuteTime": {
     "end_time": "2021-06-21T00:00:46.462475Z",
     "start_time": "2021-06-21T00:00:46.438455Z"
    }
   },
   "source": [
    "The “corr()” method evaluates the correlation between all the features, then it can be graphed with a color coding.\n",
    "\n",
    "On this graph, when there is no correlation between 2 variables (when correlation is 0 or near 0) the color is gray. The darkest red means there is a perfect positive correlation, while the darkest blue means there is a perfect negative correlation.\n",
    "\n",
    "Here we can see that,\"pm10\" and \"aqi\" are highly correlated."
   ]
  },
  {
   "cell_type": "markdown",
   "metadata": {},
   "source": [
    "### Relationship between pm10 and aqi"
   ]
  },
  {
   "cell_type": "code",
   "execution_count": 20,
   "metadata": {
    "ExecuteTime": {
     "end_time": "2021-06-21T00:15:12.412600Z",
     "start_time": "2021-06-21T00:15:11.422290Z"
    }
   },
   "outputs": [
    {
     "data": {
      "image/png": "[encoded data removed]",
      "text/plain": [
       "<Figure size 432x432 with 3 Axes>"
      ]
     },
     "metadata": {
      "needs_background": "light"
     },
     "output_type": "display_data"
    }
   ],
   "source": [
    "# defining a function to plot the relationship between two indicators (\"pm10\" & \"aqi\")\n",
    "def relation(ind1=\"pm10\", ind2=\"aqi\"):\n",
    "    relation = sns.jointplot(x=ind1, y=ind2, data=numeric, kind='reg')\n",
    "relation()"
   ]
  },
  {
   "cell_type": "markdown",
   "metadata": {},
   "source": [
    "from plotting for pm10 and aqi, we saw a positively sloped line indicating that the two pollutants move simultaneously"
   ]
  },
  {
   "cell_type": "markdown",
   "metadata": {},
   "source": [
    "###  All state Average gas data"
   ]
  },
  {
   "cell_type": "code",
   "execution_count": 21,
   "metadata": {
    "ExecuteTime": {
     "end_time": "2021-06-21T00:15:24.559639Z",
     "start_time": "2021-06-21T00:15:24.519644Z"
    }
   },
   "outputs": [
    {
     "data": {
      "text/html": [
       "<div>\n",
       "<style scoped>\n",
       "    .dataframe tbody tr th:only-of-type {\n",
       "        vertical-align: middle;\n",
       "    }\n",
       "\n",
       "    .dataframe tbody tr th {\n",
       "        vertical-align: top;\n",
       "    }\n",
       "\n",
       "    .dataframe thead th {\n",
       "        text-align: right;\n",
       "    }\n",
       "</style>\n",
       "<table border=\"1\" class=\"dataframe\">\n",
       "  <thead>\n",
       "    <tr style=\"text-align: right;\">\n",
       "      <th></th>\n",
       "      <th>pm10</th>\n",
       "      <th>pm25</th>\n",
       "      <th>o3</th>\n",
       "      <th>so2</th>\n",
       "      <th>no2</th>\n",
       "      <th>co</th>\n",
       "    </tr>\n",
       "    <tr>\n",
       "      <th>state_code</th>\n",
       "      <th></th>\n",
       "      <th></th>\n",
       "      <th></th>\n",
       "      <th></th>\n",
       "      <th></th>\n",
       "      <th></th>\n",
       "    </tr>\n",
       "  </thead>\n",
       "  <tbody>\n",
       "    <tr>\n",
       "      <th>AK</th>\n",
       "      <td>0.956553</td>\n",
       "      <td>0.408022</td>\n",
       "      <td>59.583473</td>\n",
       "      <td>0.068417</td>\n",
       "      <td>0.238235</td>\n",
       "      <td>242.267310</td>\n",
       "    </tr>\n",
       "    <tr>\n",
       "      <th>AL</th>\n",
       "      <td>4.063277</td>\n",
       "      <td>2.845484</td>\n",
       "      <td>46.978336</td>\n",
       "      <td>0.764032</td>\n",
       "      <td>1.253521</td>\n",
       "      <td>377.254091</td>\n",
       "    </tr>\n",
       "    <tr>\n",
       "      <th>AR</th>\n",
       "      <td>4.324967</td>\n",
       "      <td>2.748782</td>\n",
       "      <td>74.401000</td>\n",
       "      <td>0.951828</td>\n",
       "      <td>1.141758</td>\n",
       "      <td>342.278400</td>\n",
       "    </tr>\n",
       "    <tr>\n",
       "      <th>AZ</th>\n",
       "      <td>71.918644</td>\n",
       "      <td>22.048782</td>\n",
       "      <td>83.735121</td>\n",
       "      <td>0.493653</td>\n",
       "      <td>0.767938</td>\n",
       "      <td>248.534526</td>\n",
       "    </tr>\n",
       "    <tr>\n",
       "      <th>CA</th>\n",
       "      <td>31.983113</td>\n",
       "      <td>11.163444</td>\n",
       "      <td>103.255665</td>\n",
       "      <td>0.680982</td>\n",
       "      <td>3.206016</td>\n",
       "      <td>247.554271</td>\n",
       "    </tr>\n",
       "    <tr>\n",
       "      <th>CO</th>\n",
       "      <td>20.432635</td>\n",
       "      <td>8.809103</td>\n",
       "      <td>99.490133</td>\n",
       "      <td>0.235578</td>\n",
       "      <td>1.867048</td>\n",
       "      <td>245.015333</td>\n",
       "    </tr>\n",
       "    <tr>\n",
       "      <th>CT</th>\n",
       "      <td>20.000000</td>\n",
       "      <td>12.683333</td>\n",
       "      <td>125.727667</td>\n",
       "      <td>1.060839</td>\n",
       "      <td>16.239378</td>\n",
       "      <td>423.366833</td>\n",
       "    </tr>\n",
       "    <tr>\n",
       "      <th>DC</th>\n",
       "      <td>17.311600</td>\n",
       "      <td>15.000000</td>\n",
       "      <td>69.076900</td>\n",
       "      <td>0.000000</td>\n",
       "      <td>5.694440</td>\n",
       "      <td>303.425000</td>\n",
       "    </tr>\n",
       "    <tr>\n",
       "      <th>DE</th>\n",
       "      <td>13.883885</td>\n",
       "      <td>10.512910</td>\n",
       "      <td>101.731000</td>\n",
       "      <td>0.178571</td>\n",
       "      <td>4.336285</td>\n",
       "      <td>394.145500</td>\n",
       "    </tr>\n",
       "    <tr>\n",
       "      <th>FL</th>\n",
       "      <td>20.526184</td>\n",
       "      <td>10.890705</td>\n",
       "      <td>41.603161</td>\n",
       "      <td>0.580123</td>\n",
       "      <td>3.643796</td>\n",
       "      <td>311.626842</td>\n",
       "    </tr>\n",
       "    <tr>\n",
       "      <th>GA</th>\n",
       "      <td>8.040590</td>\n",
       "      <td>3.840806</td>\n",
       "      <td>42.586773</td>\n",
       "      <td>0.588002</td>\n",
       "      <td>1.501225</td>\n",
       "      <td>374.820400</td>\n",
       "    </tr>\n",
       "    <tr>\n",
       "      <th>HI</th>\n",
       "      <td>10.544624</td>\n",
       "      <td>5.057549</td>\n",
       "      <td>47.664017</td>\n",
       "      <td>0.658993</td>\n",
       "      <td>0.438108</td>\n",
       "      <td>242.108500</td>\n",
       "    </tr>\n",
       "    <tr>\n",
       "      <th>IA</th>\n",
       "      <td>7.970173</td>\n",
       "      <td>2.995124</td>\n",
       "      <td>107.063457</td>\n",
       "      <td>0.619890</td>\n",
       "      <td>2.919679</td>\n",
       "      <td>351.405071</td>\n",
       "    </tr>\n",
       "    <tr>\n",
       "      <th>ID</th>\n",
       "      <td>7.650069</td>\n",
       "      <td>1.555734</td>\n",
       "      <td>70.053082</td>\n",
       "      <td>0.648530</td>\n",
       "      <td>0.816684</td>\n",
       "      <td>212.138273</td>\n",
       "    </tr>\n",
       "    <tr>\n",
       "      <th>IL</th>\n",
       "      <td>12.452376</td>\n",
       "      <td>7.208808</td>\n",
       "      <td>102.012321</td>\n",
       "      <td>1.489254</td>\n",
       "      <td>5.262860</td>\n",
       "      <td>347.510895</td>\n",
       "    </tr>\n",
       "    <tr>\n",
       "      <th>IN</th>\n",
       "      <td>17.396179</td>\n",
       "      <td>7.966171</td>\n",
       "      <td>102.550286</td>\n",
       "      <td>1.343383</td>\n",
       "      <td>2.418429</td>\n",
       "      <td>336.152929</td>\n",
       "    </tr>\n",
       "    <tr>\n",
       "      <th>KS</th>\n",
       "      <td>26.269120</td>\n",
       "      <td>10.170442</td>\n",
       "      <td>103.504115</td>\n",
       "      <td>0.645982</td>\n",
       "      <td>1.377166</td>\n",
       "      <td>309.003692</td>\n",
       "    </tr>\n",
       "    <tr>\n",
       "      <th>KY</th>\n",
       "      <td>10.300749</td>\n",
       "      <td>6.702658</td>\n",
       "      <td>84.251250</td>\n",
       "      <td>1.448359</td>\n",
       "      <td>3.569336</td>\n",
       "      <td>326.659100</td>\n",
       "    </tr>\n",
       "    <tr>\n",
       "      <th>LA</th>\n",
       "      <td>1.144062</td>\n",
       "      <td>0.826887</td>\n",
       "      <td>44.614573</td>\n",
       "      <td>0.593530</td>\n",
       "      <td>1.949320</td>\n",
       "      <td>307.121091</td>\n",
       "    </tr>\n",
       "    <tr>\n",
       "      <th>MA</th>\n",
       "      <td>10.284499</td>\n",
       "      <td>8.297883</td>\n",
       "      <td>107.546429</td>\n",
       "      <td>0.733705</td>\n",
       "      <td>5.225799</td>\n",
       "      <td>263.613714</td>\n",
       "    </tr>\n",
       "    <tr>\n",
       "      <th>MD</th>\n",
       "      <td>4.944936</td>\n",
       "      <td>3.708702</td>\n",
       "      <td>77.418180</td>\n",
       "      <td>0.580377</td>\n",
       "      <td>4.668300</td>\n",
       "      <td>277.593000</td>\n",
       "    </tr>\n",
       "    <tr>\n",
       "      <th>ME</th>\n",
       "      <td>4.123115</td>\n",
       "      <td>2.788989</td>\n",
       "      <td>81.914511</td>\n",
       "      <td>0.132901</td>\n",
       "      <td>4.375438</td>\n",
       "      <td>350.531000</td>\n",
       "    </tr>\n",
       "    <tr>\n",
       "      <th>MI</th>\n",
       "      <td>5.629438</td>\n",
       "      <td>3.276476</td>\n",
       "      <td>95.094068</td>\n",
       "      <td>0.618664</td>\n",
       "      <td>3.539386</td>\n",
       "      <td>352.910955</td>\n",
       "    </tr>\n",
       "    <tr>\n",
       "      <th>MN</th>\n",
       "      <td>3.482498</td>\n",
       "      <td>1.480649</td>\n",
       "      <td>70.749605</td>\n",
       "      <td>0.259447</td>\n",
       "      <td>3.127388</td>\n",
       "      <td>337.245474</td>\n",
       "    </tr>\n",
       "    <tr>\n",
       "      <th>MO</th>\n",
       "      <td>25.224771</td>\n",
       "      <td>7.794168</td>\n",
       "      <td>100.119375</td>\n",
       "      <td>1.001864</td>\n",
       "      <td>1.960239</td>\n",
       "      <td>330.967250</td>\n",
       "    </tr>\n",
       "    <tr>\n",
       "      <th>MS</th>\n",
       "      <td>3.075692</td>\n",
       "      <td>1.937738</td>\n",
       "      <td>72.810682</td>\n",
       "      <td>0.476344</td>\n",
       "      <td>1.290786</td>\n",
       "      <td>313.370909</td>\n",
       "    </tr>\n",
       "    <tr>\n",
       "      <th>MT</th>\n",
       "      <td>3.015620</td>\n",
       "      <td>0.915331</td>\n",
       "      <td>66.358329</td>\n",
       "      <td>0.220336</td>\n",
       "      <td>0.603925</td>\n",
       "      <td>249.832857</td>\n",
       "    </tr>\n",
       "    <tr>\n",
       "      <th>NC</th>\n",
       "      <td>11.741702</td>\n",
       "      <td>7.390256</td>\n",
       "      <td>45.078525</td>\n",
       "      <td>0.789473</td>\n",
       "      <td>2.171619</td>\n",
       "      <td>332.872250</td>\n",
       "    </tr>\n",
       "    <tr>\n",
       "      <th>ND</th>\n",
       "      <td>2.585271</td>\n",
       "      <td>0.819401</td>\n",
       "      <td>58.123171</td>\n",
       "      <td>0.180531</td>\n",
       "      <td>0.565765</td>\n",
       "      <td>266.432714</td>\n",
       "    </tr>\n",
       "    <tr>\n",
       "      <th>NE</th>\n",
       "      <td>4.805433</td>\n",
       "      <td>2.579652</td>\n",
       "      <td>95.721864</td>\n",
       "      <td>0.119770</td>\n",
       "      <td>0.599132</td>\n",
       "      <td>253.988364</td>\n",
       "    </tr>\n",
       "    <tr>\n",
       "      <th>NH</th>\n",
       "      <td>9.000000</td>\n",
       "      <td>6.950000</td>\n",
       "      <td>109.657000</td>\n",
       "      <td>0.833333</td>\n",
       "      <td>5.870620</td>\n",
       "      <td>148.850000</td>\n",
       "    </tr>\n",
       "    <tr>\n",
       "      <th>NJ</th>\n",
       "      <td>22.914200</td>\n",
       "      <td>14.915930</td>\n",
       "      <td>117.773000</td>\n",
       "      <td>0.416667</td>\n",
       "      <td>5.602430</td>\n",
       "      <td>442.820500</td>\n",
       "    </tr>\n",
       "    <tr>\n",
       "      <th>NM</th>\n",
       "      <td>43.912571</td>\n",
       "      <td>35.699859</td>\n",
       "      <td>74.022765</td>\n",
       "      <td>0.512251</td>\n",
       "      <td>0.927682</td>\n",
       "      <td>269.136176</td>\n",
       "    </tr>\n",
       "    <tr>\n",
       "      <th>NV</th>\n",
       "      <td>26.338566</td>\n",
       "      <td>6.890073</td>\n",
       "      <td>86.097750</td>\n",
       "      <td>0.403799</td>\n",
       "      <td>2.645209</td>\n",
       "      <td>203.932000</td>\n",
       "    </tr>\n",
       "    <tr>\n",
       "      <th>NY</th>\n",
       "      <td>7.833007</td>\n",
       "      <td>5.446389</td>\n",
       "      <td>108.855431</td>\n",
       "      <td>0.362910</td>\n",
       "      <td>5.421539</td>\n",
       "      <td>356.393938</td>\n",
       "    </tr>\n",
       "    <tr>\n",
       "      <th>OH</th>\n",
       "      <td>14.805165</td>\n",
       "      <td>11.028774</td>\n",
       "      <td>98.038564</td>\n",
       "      <td>1.205876</td>\n",
       "      <td>5.890198</td>\n",
       "      <td>358.380000</td>\n",
       "    </tr>\n",
       "    <tr>\n",
       "      <th>OK</th>\n",
       "      <td>22.352517</td>\n",
       "      <td>9.202705</td>\n",
       "      <td>87.078700</td>\n",
       "      <td>0.462549</td>\n",
       "      <td>1.782271</td>\n",
       "      <td>345.714143</td>\n",
       "    </tr>\n",
       "    <tr>\n",
       "      <th>OR</th>\n",
       "      <td>6.963454</td>\n",
       "      <td>3.893341</td>\n",
       "      <td>74.022556</td>\n",
       "      <td>0.460639</td>\n",
       "      <td>0.917700</td>\n",
       "      <td>240.051556</td>\n",
       "    </tr>\n",
       "    <tr>\n",
       "      <th>PA</th>\n",
       "      <td>7.665968</td>\n",
       "      <td>5.763759</td>\n",
       "      <td>98.510307</td>\n",
       "      <td>0.641582</td>\n",
       "      <td>4.986189</td>\n",
       "      <td>433.045286</td>\n",
       "    </tr>\n",
       "    <tr>\n",
       "      <th>RI</th>\n",
       "      <td>14.449665</td>\n",
       "      <td>10.295810</td>\n",
       "      <td>125.416500</td>\n",
       "      <td>0.625000</td>\n",
       "      <td>9.062500</td>\n",
       "      <td>423.650000</td>\n",
       "    </tr>\n",
       "    <tr>\n",
       "      <th>SC</th>\n",
       "      <td>10.723318</td>\n",
       "      <td>4.623951</td>\n",
       "      <td>39.372217</td>\n",
       "      <td>0.244666</td>\n",
       "      <td>1.441711</td>\n",
       "      <td>331.783167</td>\n",
       "    </tr>\n",
       "    <tr>\n",
       "      <th>SD</th>\n",
       "      <td>4.927043</td>\n",
       "      <td>1.398689</td>\n",
       "      <td>80.763111</td>\n",
       "      <td>0.245695</td>\n",
       "      <td>0.739376</td>\n",
       "      <td>268.095222</td>\n",
       "    </tr>\n",
       "    <tr>\n",
       "      <th>TN</th>\n",
       "      <td>3.036118</td>\n",
       "      <td>2.277089</td>\n",
       "      <td>68.931425</td>\n",
       "      <td>0.777908</td>\n",
       "      <td>1.961698</td>\n",
       "      <td>344.686667</td>\n",
       "    </tr>\n",
       "    <tr>\n",
       "      <th>TX</th>\n",
       "      <td>8.048183</td>\n",
       "      <td>4.151264</td>\n",
       "      <td>51.130152</td>\n",
       "      <td>0.734517</td>\n",
       "      <td>0.951860</td>\n",
       "      <td>317.816742</td>\n",
       "    </tr>\n",
       "    <tr>\n",
       "      <th>UT</th>\n",
       "      <td>9.316397</td>\n",
       "      <td>5.205452</td>\n",
       "      <td>92.020071</td>\n",
       "      <td>0.592898</td>\n",
       "      <td>0.992615</td>\n",
       "      <td>210.260379</td>\n",
       "    </tr>\n",
       "    <tr>\n",
       "      <th>VA</th>\n",
       "      <td>3.346104</td>\n",
       "      <td>2.616454</td>\n",
       "      <td>57.270087</td>\n",
       "      <td>0.275307</td>\n",
       "      <td>2.664057</td>\n",
       "      <td>283.725867</td>\n",
       "    </tr>\n",
       "    <tr>\n",
       "      <th>VT</th>\n",
       "      <td>3.809755</td>\n",
       "      <td>2.857315</td>\n",
       "      <td>100.000000</td>\n",
       "      <td>0.000000</td>\n",
       "      <td>3.903455</td>\n",
       "      <td>154.575000</td>\n",
       "    </tr>\n",
       "    <tr>\n",
       "      <th>WA</th>\n",
       "      <td>6.171750</td>\n",
       "      <td>3.783123</td>\n",
       "      <td>75.257425</td>\n",
       "      <td>0.864551</td>\n",
       "      <td>3.279403</td>\n",
       "      <td>230.022687</td>\n",
       "    </tr>\n",
       "    <tr>\n",
       "      <th>WI</th>\n",
       "      <td>7.936421</td>\n",
       "      <td>5.447116</td>\n",
       "      <td>85.208983</td>\n",
       "      <td>1.101063</td>\n",
       "      <td>4.763388</td>\n",
       "      <td>273.428778</td>\n",
       "    </tr>\n",
       "    <tr>\n",
       "      <th>WV</th>\n",
       "      <td>5.367220</td>\n",
       "      <td>3.822405</td>\n",
       "      <td>64.904512</td>\n",
       "      <td>0.535385</td>\n",
       "      <td>3.598193</td>\n",
       "      <td>416.711000</td>\n",
       "    </tr>\n",
       "    <tr>\n",
       "      <th>WY</th>\n",
       "      <td>17.633060</td>\n",
       "      <td>3.625352</td>\n",
       "      <td>83.766283</td>\n",
       "      <td>0.517915</td>\n",
       "      <td>1.236553</td>\n",
       "      <td>208.414583</td>\n",
       "    </tr>\n",
       "  </tbody>\n",
       "</table>\n",
       "</div>"
      ],
      "text/plain": [
       "                 pm10       pm25          o3       so2        no2          co\n",
       "state_code                                                                   \n",
       "AK           0.956553   0.408022   59.583473  0.068417   0.238235  242.267310\n",
       "AL           4.063277   2.845484   46.978336  0.764032   1.253521  377.254091\n",
       "AR           4.324967   2.748782   74.401000  0.951828   1.141758  342.278400\n",
       "AZ          71.918644  22.048782   83.735121  0.493653   0.767938  248.534526\n",
       "CA          31.983113  11.163444  103.255665  0.680982   3.206016  247.554271\n",
       "CO          20.432635   8.809103   99.490133  0.235578   1.867048  245.015333\n",
       "CT          20.000000  12.683333  125.727667  1.060839  16.239378  423.366833\n",
       "DC          17.311600  15.000000   69.076900  0.000000   5.694440  303.425000\n",
       "DE          13.883885  10.512910  101.731000  0.178571   4.336285  394.145500\n",
       "FL          20.526184  10.890705   41.603161  0.580123   3.643796  311.626842\n",
       "GA           8.040590   3.840806   42.586773  0.588002   1.501225  374.820400\n",
       "HI          10.544624   5.057549   47.664017  0.658993   0.438108  242.108500\n",
       "IA           7.970173   2.995124  107.063457  0.619890   2.919679  351.405071\n",
       "ID           7.650069   1.555734   70.053082  0.648530   0.816684  212.138273\n",
       "IL          12.452376   7.208808  102.012321  1.489254   5.262860  347.510895\n",
       "IN          17.396179   7.966171  102.550286  1.343383   2.418429  336.152929\n",
       "KS          26.269120  10.170442  103.504115  0.645982   1.377166  309.003692\n",
       "KY          10.300749   6.702658   84.251250  1.448359   3.569336  326.659100\n",
       "LA           1.144062   0.826887   44.614573  0.593530   1.949320  307.121091\n",
       "MA          10.284499   8.297883  107.546429  0.733705   5.225799  263.613714\n",
       "MD           4.944936   3.708702   77.418180  0.580377   4.668300  277.593000\n",
       "ME           4.123115   2.788989   81.914511  0.132901   4.375438  350.531000\n",
       "MI           5.629438   3.276476   95.094068  0.618664   3.539386  352.910955\n",
       "MN           3.482498   1.480649   70.749605  0.259447   3.127388  337.245474\n",
       "MO          25.224771   7.794168  100.119375  1.001864   1.960239  330.967250\n",
       "MS           3.075692   1.937738   72.810682  0.476344   1.290786  313.370909\n",
       "MT           3.015620   0.915331   66.358329  0.220336   0.603925  249.832857\n",
       "NC          11.741702   7.390256   45.078525  0.789473   2.171619  332.872250\n",
       "ND           2.585271   0.819401   58.123171  0.180531   0.565765  266.432714\n",
       "NE           4.805433   2.579652   95.721864  0.119770   0.599132  253.988364\n",
       "NH           9.000000   6.950000  109.657000  0.833333   5.870620  148.850000\n",
       "NJ          22.914200  14.915930  117.773000  0.416667   5.602430  442.820500\n",
       "NM          43.912571  35.699859   74.022765  0.512251   0.927682  269.136176\n",
       "NV          26.338566   6.890073   86.097750  0.403799   2.645209  203.932000\n",
       "NY           7.833007   5.446389  108.855431  0.362910   5.421539  356.393938\n",
       "OH          14.805165  11.028774   98.038564  1.205876   5.890198  358.380000\n",
       "OK          22.352517   9.202705   87.078700  0.462549   1.782271  345.714143\n",
       "OR           6.963454   3.893341   74.022556  0.460639   0.917700  240.051556\n",
       "PA           7.665968   5.763759   98.510307  0.641582   4.986189  433.045286\n",
       "RI          14.449665  10.295810  125.416500  0.625000   9.062500  423.650000\n",
       "SC          10.723318   4.623951   39.372217  0.244666   1.441711  331.783167\n",
       "SD           4.927043   1.398689   80.763111  0.245695   0.739376  268.095222\n",
       "TN           3.036118   2.277089   68.931425  0.777908   1.961698  344.686667\n",
       "TX           8.048183   4.151264   51.130152  0.734517   0.951860  317.816742\n",
       "UT           9.316397   5.205452   92.020071  0.592898   0.992615  210.260379\n",
       "VA           3.346104   2.616454   57.270087  0.275307   2.664057  283.725867\n",
       "VT           3.809755   2.857315  100.000000  0.000000   3.903455  154.575000\n",
       "WA           6.171750   3.783123   75.257425  0.864551   3.279403  230.022687\n",
       "WI           7.936421   5.447116   85.208983  1.101063   4.763388  273.428778\n",
       "WV           5.367220   3.822405   64.904512  0.535385   3.598193  416.711000\n",
       "WY          17.633060   3.625352   83.766283  0.517915   1.236553  208.414583"
      ]
     },
     "execution_count": 21,
     "metadata": {},
     "output_type": "execute_result"
    }
   ],
   "source": [
    "usa_cities.groupby('state_code')[['pm10','pm25','o3','so2','no2','co']].mean()"
   ]
  },
  {
   "cell_type": "markdown",
   "metadata": {},
   "source": [
    "### Let see the Range of the AirQuality Index in the Data"
   ]
  },
  {
   "cell_type": "code",
   "execution_count": 22,
   "metadata": {
    "ExecuteTime": {
     "end_time": "2021-06-21T00:15:27.150790Z",
     "start_time": "2021-06-21T00:15:26.986626Z"
    }
   },
   "outputs": [
    {
     "data": {
      "image/jpeg": "[encoded data removed]",
      "text/plain": [
       "<IPython.core.display.Image object>"
      ]
     },
     "execution_count": 22,
     "metadata": {},
     "output_type": "execute_result"
    }
   ],
   "source": [
    "from IPython import display \n",
    "display.Image(\"https://www.extremetech.com/wp-content/uploads/2018/11/Range-of-AQI-values-for-the-USA.jpg\")"
   ]
  },
  {
   "cell_type": "code",
   "execution_count": 23,
   "metadata": {
    "ExecuteTime": {
     "end_time": "2021-06-21T00:15:28.255925Z",
     "start_time": "2021-06-21T00:15:28.225134Z"
    }
   },
   "outputs": [
    {
     "data": {
      "text/html": [
       "<div>\n",
       "<style scoped>\n",
       "    .dataframe tbody tr th:only-of-type {\n",
       "        vertical-align: middle;\n",
       "    }\n",
       "\n",
       "    .dataframe tbody tr th {\n",
       "        vertical-align: top;\n",
       "    }\n",
       "\n",
       "    .dataframe thead th {\n",
       "        text-align: right;\n",
       "    }\n",
       "</style>\n",
       "<table border=\"1\" class=\"dataframe\">\n",
       "  <thead>\n",
       "    <tr style=\"text-align: right;\">\n",
       "      <th></th>\n",
       "      <th>aqi</th>\n",
       "      <th>city_name</th>\n",
       "      <th>state_code</th>\n",
       "    </tr>\n",
       "  </thead>\n",
       "  <tbody>\n",
       "    <tr>\n",
       "      <th>0</th>\n",
       "      <td>31</td>\n",
       "      <td>Whitlocks Mill</td>\n",
       "      <td>ME</td>\n",
       "    </tr>\n",
       "    <tr>\n",
       "      <th>1</th>\n",
       "      <td>30</td>\n",
       "      <td>VA Boston Healthcare System, West Roxbury Campus</td>\n",
       "      <td>ME</td>\n",
       "    </tr>\n",
       "    <tr>\n",
       "      <th>2</th>\n",
       "      <td>26</td>\n",
       "      <td>McGraw</td>\n",
       "      <td>ME</td>\n",
       "    </tr>\n",
       "    <tr>\n",
       "      <th>3</th>\n",
       "      <td>38</td>\n",
       "      <td>Bar Harbor</td>\n",
       "      <td>ME</td>\n",
       "    </tr>\n",
       "    <tr>\n",
       "      <th>4</th>\n",
       "      <td>33</td>\n",
       "      <td>Bangor</td>\n",
       "      <td>ME</td>\n",
       "    </tr>\n",
       "    <tr>\n",
       "      <th>...</th>\n",
       "      <td>...</td>\n",
       "      <td>...</td>\n",
       "      <td>...</td>\n",
       "    </tr>\n",
       "    <tr>\n",
       "      <th>764</th>\n",
       "      <td>25</td>\n",
       "      <td>Point Hope</td>\n",
       "      <td>AK</td>\n",
       "    </tr>\n",
       "    <tr>\n",
       "      <th>765</th>\n",
       "      <td>25</td>\n",
       "      <td>Wales</td>\n",
       "      <td>AK</td>\n",
       "    </tr>\n",
       "    <tr>\n",
       "      <th>766</th>\n",
       "      <td>41</td>\n",
       "      <td>Nikolski</td>\n",
       "      <td>AK</td>\n",
       "    </tr>\n",
       "    <tr>\n",
       "      <th>767</th>\n",
       "      <td>25</td>\n",
       "      <td>Gambell</td>\n",
       "      <td>AK</td>\n",
       "    </tr>\n",
       "    <tr>\n",
       "      <th>768</th>\n",
       "      <td>34</td>\n",
       "      <td>Atka</td>\n",
       "      <td>AK</td>\n",
       "    </tr>\n",
       "  </tbody>\n",
       "</table>\n",
       "<p>769 rows × 3 columns</p>\n",
       "</div>"
      ],
      "text/plain": [
       "     aqi                                         city_name state_code\n",
       "0     31                                    Whitlocks Mill         ME\n",
       "1     30  VA Boston Healthcare System, West Roxbury Campus         ME\n",
       "2     26                                            McGraw         ME\n",
       "3     38                                        Bar Harbor         ME\n",
       "4     33                                            Bangor         ME\n",
       "..   ...                                               ...        ...\n",
       "764   25                                        Point Hope         AK\n",
       "765   25                                             Wales         AK\n",
       "766   41                                          Nikolski         AK\n",
       "767   25                                           Gambell         AK\n",
       "768   34                                              Atka         AK\n",
       "\n",
       "[769 rows x 3 columns]"
      ]
     },
     "execution_count": 23,
     "metadata": {},
     "output_type": "execute_result"
    }
   ],
   "source": [
    "new=usa_cities[[\"aqi\",\"city_name\",\"state_code\"]]\n",
    "new"
   ]
  },
  {
   "cell_type": "code",
   "execution_count": 24,
   "metadata": {
    "ExecuteTime": {
     "end_time": "2021-06-21T00:15:29.168797Z",
     "start_time": "2021-06-21T00:15:29.143398Z"
    }
   },
   "outputs": [],
   "source": [
    "new[\"Air-Quality\"]=pd.cut(new.aqi,bins=[0,50,100,150,200,300,500],labels=[\"Good\",\"Moderate\",\"Unhealthy for sensitive group\",\"Unhealthy\",\"Very unhealthy\",\"Hazardous\"])"
   ]
  },
  {
   "cell_type": "code",
   "execution_count": 25,
   "metadata": {
    "ExecuteTime": {
     "end_time": "2021-06-21T00:15:30.383336Z",
     "start_time": "2021-06-21T00:15:30.359305Z"
    }
   },
   "outputs": [
    {
     "data": {
      "text/html": [
       "<div>\n",
       "<style scoped>\n",
       "    .dataframe tbody tr th:only-of-type {\n",
       "        vertical-align: middle;\n",
       "    }\n",
       "\n",
       "    .dataframe tbody tr th {\n",
       "        vertical-align: top;\n",
       "    }\n",
       "\n",
       "    .dataframe thead th {\n",
       "        text-align: right;\n",
       "    }\n",
       "</style>\n",
       "<table border=\"1\" class=\"dataframe\">\n",
       "  <thead>\n",
       "    <tr style=\"text-align: right;\">\n",
       "      <th></th>\n",
       "      <th>aqi</th>\n",
       "      <th>city_name</th>\n",
       "      <th>state_code</th>\n",
       "      <th>Air-Quality</th>\n",
       "    </tr>\n",
       "  </thead>\n",
       "  <tbody>\n",
       "    <tr>\n",
       "      <th>0</th>\n",
       "      <td>31</td>\n",
       "      <td>Whitlocks Mill</td>\n",
       "      <td>ME</td>\n",
       "      <td>Good</td>\n",
       "    </tr>\n",
       "    <tr>\n",
       "      <th>1</th>\n",
       "      <td>30</td>\n",
       "      <td>VA Boston Healthcare System, West Roxbury Campus</td>\n",
       "      <td>ME</td>\n",
       "      <td>Good</td>\n",
       "    </tr>\n",
       "    <tr>\n",
       "      <th>2</th>\n",
       "      <td>26</td>\n",
       "      <td>McGraw</td>\n",
       "      <td>ME</td>\n",
       "      <td>Good</td>\n",
       "    </tr>\n",
       "    <tr>\n",
       "      <th>3</th>\n",
       "      <td>38</td>\n",
       "      <td>Bar Harbor</td>\n",
       "      <td>ME</td>\n",
       "      <td>Good</td>\n",
       "    </tr>\n",
       "    <tr>\n",
       "      <th>4</th>\n",
       "      <td>33</td>\n",
       "      <td>Bangor</td>\n",
       "      <td>ME</td>\n",
       "      <td>Good</td>\n",
       "    </tr>\n",
       "    <tr>\n",
       "      <th>...</th>\n",
       "      <td>...</td>\n",
       "      <td>...</td>\n",
       "      <td>...</td>\n",
       "      <td>...</td>\n",
       "    </tr>\n",
       "    <tr>\n",
       "      <th>764</th>\n",
       "      <td>25</td>\n",
       "      <td>Point Hope</td>\n",
       "      <td>AK</td>\n",
       "      <td>Good</td>\n",
       "    </tr>\n",
       "    <tr>\n",
       "      <th>765</th>\n",
       "      <td>25</td>\n",
       "      <td>Wales</td>\n",
       "      <td>AK</td>\n",
       "      <td>Good</td>\n",
       "    </tr>\n",
       "    <tr>\n",
       "      <th>766</th>\n",
       "      <td>41</td>\n",
       "      <td>Nikolski</td>\n",
       "      <td>AK</td>\n",
       "      <td>Good</td>\n",
       "    </tr>\n",
       "    <tr>\n",
       "      <th>767</th>\n",
       "      <td>25</td>\n",
       "      <td>Gambell</td>\n",
       "      <td>AK</td>\n",
       "      <td>Good</td>\n",
       "    </tr>\n",
       "    <tr>\n",
       "      <th>768</th>\n",
       "      <td>34</td>\n",
       "      <td>Atka</td>\n",
       "      <td>AK</td>\n",
       "      <td>Good</td>\n",
       "    </tr>\n",
       "  </tbody>\n",
       "</table>\n",
       "<p>769 rows × 4 columns</p>\n",
       "</div>"
      ],
      "text/plain": [
       "     aqi                                         city_name state_code  \\\n",
       "0     31                                    Whitlocks Mill         ME   \n",
       "1     30  VA Boston Healthcare System, West Roxbury Campus         ME   \n",
       "2     26                                            McGraw         ME   \n",
       "3     38                                        Bar Harbor         ME   \n",
       "4     33                                            Bangor         ME   \n",
       "..   ...                                               ...        ...   \n",
       "764   25                                        Point Hope         AK   \n",
       "765   25                                             Wales         AK   \n",
       "766   41                                          Nikolski         AK   \n",
       "767   25                                           Gambell         AK   \n",
       "768   34                                              Atka         AK   \n",
       "\n",
       "    Air-Quality  \n",
       "0          Good  \n",
       "1          Good  \n",
       "2          Good  \n",
       "3          Good  \n",
       "4          Good  \n",
       "..          ...  \n",
       "764        Good  \n",
       "765        Good  \n",
       "766        Good  \n",
       "767        Good  \n",
       "768        Good  \n",
       "\n",
       "[769 rows x 4 columns]"
      ]
     },
     "execution_count": 25,
     "metadata": {},
     "output_type": "execute_result"
    }
   ],
   "source": [
    "new"
   ]
  },
  {
   "cell_type": "code",
   "execution_count": 31,
   "metadata": {
    "ExecuteTime": {
     "end_time": "2021-06-21T00:16:25.743981Z",
     "start_time": "2021-06-21T00:16:25.501070Z"
    }
   },
   "outputs": [
    {
     "data": {
      "image/png": "[encoded data removed]",
      "text/plain": [
       "<Figure size 1296x648 with 1 Axes>"
      ]
     },
     "metadata": {
      "needs_background": "light"
     },
     "output_type": "display_data"
    }
   ],
   "source": [
    "countplt, ax = plt.subplots(figsize = (18,9))\n",
    "ax =sns.countplot(x = 'Air-Quality', data=new)"
   ]
  },
  {
   "cell_type": "markdown",
   "metadata": {},
   "source": [
    "### Top 10 worst states on the basis of aqi"
   ]
  },
  {
   "cell_type": "code",
   "execution_count": 27,
   "metadata": {
    "ExecuteTime": {
     "end_time": "2021-06-21T00:15:34.763580Z",
     "start_time": "2021-06-21T00:15:33.943143Z"
    }
   },
   "outputs": [
    {
     "data": {
      "text/html": [
       "<style  type=\"text/css\" >\n",
       "#T_cc43e17f_d225_11eb_95d3_68545a1b0de0row0_col0{\n",
       "            background-color:  #fde725;\n",
       "            color:  #000000;\n",
       "        }#T_cc43e17f_d225_11eb_95d3_68545a1b0de0row1_col0{\n",
       "            background-color:  #22a884;\n",
       "            color:  #000000;\n",
       "        }#T_cc43e17f_d225_11eb_95d3_68545a1b0de0row2_col0{\n",
       "            background-color:  #453581;\n",
       "            color:  #f1f1f1;\n",
       "        }#T_cc43e17f_d225_11eb_95d3_68545a1b0de0row3_col0{\n",
       "            background-color:  #46307e;\n",
       "            color:  #f1f1f1;\n",
       "        }#T_cc43e17f_d225_11eb_95d3_68545a1b0de0row4_col0{\n",
       "            background-color:  #472f7d;\n",
       "            color:  #f1f1f1;\n",
       "        }#T_cc43e17f_d225_11eb_95d3_68545a1b0de0row5_col0{\n",
       "            background-color:  #472e7c;\n",
       "            color:  #f1f1f1;\n",
       "        }#T_cc43e17f_d225_11eb_95d3_68545a1b0de0row6_col0{\n",
       "            background-color:  #481f70;\n",
       "            color:  #f1f1f1;\n",
       "        }#T_cc43e17f_d225_11eb_95d3_68545a1b0de0row7_col0{\n",
       "            background-color:  #46075a;\n",
       "            color:  #f1f1f1;\n",
       "        }#T_cc43e17f_d225_11eb_95d3_68545a1b0de0row8_col0{\n",
       "            background-color:  #440256;\n",
       "            color:  #f1f1f1;\n",
       "        }#T_cc43e17f_d225_11eb_95d3_68545a1b0de0row9_col0{\n",
       "            background-color:  #440154;\n",
       "            color:  #f1f1f1;\n",
       "        }</style><table id=\"T_cc43e17f_d225_11eb_95d3_68545a1b0de0\" ><thead>    <tr>        <th class=\"blank level0\" ></th>        <th class=\"col_heading level0 col0\" >aqi</th>    </tr>    <tr>        <th class=\"index_name level0\" >state_code</th>        <th class=\"blank\" ></th>    </tr></thead><tbody>\n",
       "                <tr>\n",
       "                        <th id=\"T_cc43e17f_d225_11eb_95d3_68545a1b0de0level0_row0\" class=\"row_heading level0 row0\" >NM</th>\n",
       "                        <td id=\"T_cc43e17f_d225_11eb_95d3_68545a1b0de0row0_col0\" class=\"data row0 col0\" >103.294118</td>\n",
       "            </tr>\n",
       "            <tr>\n",
       "                        <th id=\"T_cc43e17f_d225_11eb_95d3_68545a1b0de0level0_row1\" class=\"row_heading level0 row1\" >AZ</th>\n",
       "                        <td id=\"T_cc43e17f_d225_11eb_95d3_68545a1b0de0row1_col0\" class=\"data row1 col0\" >82.631579</td>\n",
       "            </tr>\n",
       "            <tr>\n",
       "                        <th id=\"T_cc43e17f_d225_11eb_95d3_68545a1b0de0level0_row2\" class=\"row_heading level0 row2\" >RI</th>\n",
       "                        <td id=\"T_cc43e17f_d225_11eb_95d3_68545a1b0de0row2_col0\" class=\"data row2 col0\" >59.500000</td>\n",
       "            </tr>\n",
       "            <tr>\n",
       "                        <th id=\"T_cc43e17f_d225_11eb_95d3_68545a1b0de0level0_row3\" class=\"row_heading level0 row3\" >CT</th>\n",
       "                        <td id=\"T_cc43e17f_d225_11eb_95d3_68545a1b0de0row3_col0\" class=\"data row3 col0\" >58.833333</td>\n",
       "            </tr>\n",
       "            <tr>\n",
       "                        <th id=\"T_cc43e17f_d225_11eb_95d3_68545a1b0de0level0_row4\" class=\"row_heading level0 row4\" >CA</th>\n",
       "                        <td id=\"T_cc43e17f_d225_11eb_95d3_68545a1b0de0row4_col0\" class=\"data row4 col0\" >58.520833</td>\n",
       "            </tr>\n",
       "            <tr>\n",
       "                        <th id=\"T_cc43e17f_d225_11eb_95d3_68545a1b0de0level0_row5\" class=\"row_heading level0 row5\" >NJ</th>\n",
       "                        <td id=\"T_cc43e17f_d225_11eb_95d3_68545a1b0de0row5_col0\" class=\"data row5 col0\" >58.250000</td>\n",
       "            </tr>\n",
       "            <tr>\n",
       "                        <th id=\"T_cc43e17f_d225_11eb_95d3_68545a1b0de0level0_row6\" class=\"row_heading level0 row6\" >DC</th>\n",
       "                        <td id=\"T_cc43e17f_d225_11eb_95d3_68545a1b0de0row6_col0\" class=\"data row6 col0\" >56.000000</td>\n",
       "            </tr>\n",
       "            <tr>\n",
       "                        <th id=\"T_cc43e17f_d225_11eb_95d3_68545a1b0de0level0_row7\" class=\"row_heading level0 row7\" >DE</th>\n",
       "                        <td id=\"T_cc43e17f_d225_11eb_95d3_68545a1b0de0row7_col0\" class=\"data row7 col0\" >52.500000</td>\n",
       "            </tr>\n",
       "            <tr>\n",
       "                        <th id=\"T_cc43e17f_d225_11eb_95d3_68545a1b0de0level0_row8\" class=\"row_heading level0 row8\" >IN</th>\n",
       "                        <td id=\"T_cc43e17f_d225_11eb_95d3_68545a1b0de0row8_col0\" class=\"data row8 col0\" >51.928571</td>\n",
       "            </tr>\n",
       "            <tr>\n",
       "                        <th id=\"T_cc43e17f_d225_11eb_95d3_68545a1b0de0level0_row9\" class=\"row_heading level0 row9\" >NY</th>\n",
       "                        <td id=\"T_cc43e17f_d225_11eb_95d3_68545a1b0de0row9_col0\" class=\"data row9 col0\" >51.562500</td>\n",
       "            </tr>\n",
       "    </tbody></table>"
      ],
      "text/plain": [
       "<pandas.io.formats.style.Styler at 0x15b5d7dc040>"
      ]
     },
     "execution_count": 27,
     "metadata": {},
     "output_type": "execute_result"
    }
   ],
   "source": [
    "usa_cities[['state_code', 'aqi']].groupby(['state_code']).agg('mean').sort_values('aqi',\n",
    "                                                                 ascending=False).head(10).style.background_gradient(cmap='viridis')"
   ]
  },
  {
   "cell_type": "markdown",
   "metadata": {},
   "source": [
    "From above it is confirmed that the state \"Arizona\" has highest aqi value and the state \"New Jersey\" has lowest value in top 10 states of highest values of aqi.That means the state **Arizona** is highest polluted state of USA."
   ]
  },
  {
   "cell_type": "markdown",
   "metadata": {},
   "source": [
    "### Top 10 worst cities"
   ]
  },
  {
   "cell_type": "code",
   "execution_count": 28,
   "metadata": {
    "ExecuteTime": {
     "end_time": "2021-06-21T00:15:38.702451Z",
     "start_time": "2021-06-21T00:15:37.727174Z"
    }
   },
   "outputs": [
    {
     "data": {
      "application/vnd.plotly.v1+json": {
       "config": {
        "linkText": "Export to plot.ly",
        "plotlyServerURL": "https://plot.ly",
        "showLink": true
       },
       "data": [
        {
         "marker": {
          "color": "rgba(255, 153, 51, 0.6)",
          "line": {
           "color": "rgba(255, 153, 51, 1.0)",
           "width": 1
          }
         },
         "name": "aqi",
         "orientation": "v",
         "text": "",
         "type": "bar",
         "x": [
          "Safford",
          "Deming",
          "Truth or Consequences",
          "El Centro",
          "Socorro",
          "Gallup",
          "Roswell",
          "Alamogordo",
          "Willcox",
          "Van Horn"
         ],
         "y": [
          253,
          203,
          175,
          164,
          160,
          159,
          157,
          152,
          103,
          101
         ]
        }
       ],
       "layout": {
        "legend": {
         "bgcolor": "#F5F6F9",
         "font": {
          "color": "#4D5663"
         }
        },
        "paper_bgcolor": "#F5F6F9",
        "plot_bgcolor": "#F5F6F9",
        "template": {
         "data": {
          "bar": [
           {
            "error_x": {
             "color": "#2a3f5f"
            },
            "error_y": {
             "color": "#2a3f5f"
            },
            "marker": {
             "line": {
              "color": "#E5ECF6",
              "width": 0.5
             }
            },
            "type": "bar"
           }
          ],
          "barpolar": [
           {
            "marker": {
             "line": {
              "color": "#E5ECF6",
              "width": 0.5
             }
            },
            "type": "barpolar"
           }
          ],
          "carpet": [
           {
            "aaxis": {
             "endlinecolor": "#2a3f5f",
             "gridcolor": "white",
             "linecolor": "white",
             "minorgridcolor": "white",
             "startlinecolor": "#2a3f5f"
            },
            "baxis": {
             "endlinecolor": "#2a3f5f",
             "gridcolor": "white",
             "linecolor": "white",
             "minorgridcolor": "white",
             "startlinecolor": "#2a3f5f"
            },
            "type": "carpet"
           }
          ],
          "choropleth": [
           {
            "colorbar": {
             "outlinewidth": 0,
             "ticks": ""
            },
            "type": "choropleth"
           }
          ],
          "contour": [
           {
            "colorbar": {
             "outlinewidth": 0,
             "ticks": ""
            },
            "colorscale": [
             [
              0,
              "#0d0887"
             ],
             [
              0.1111111111111111,
              "#46039f"
             ],
             [
              0.2222222222222222,
              "#7201a8"
             ],
             [
              0.3333333333333333,
              "#9c179e"
             ],
             [
              0.4444444444444444,
              "#bd3786"
             ],
             [
              0.5555555555555556,
              "#d8576b"
             ],
             [
              0.6666666666666666,
              "#ed7953"
             ],
             [
              0.7777777777777778,
              "#fb9f3a"
             ],
             [
              0.8888888888888888,
              "#fdca26"
             ],
             [
              1,
              "#f0f921"
             ]
            ],
            "type": "contour"
           }
          ],
          "contourcarpet": [
           {
            "colorbar": {
             "outlinewidth": 0,
             "ticks": ""
            },
            "type": "contourcarpet"
           }
          ],
          "heatmap": [
           {
            "colorbar": {
             "outlinewidth": 0,
             "ticks": ""
            },
            "colorscale": [
             [
              0,
              "#0d0887"
             ],
             [
              0.1111111111111111,
              "#46039f"
             ],
             [
              0.2222222222222222,
              "#7201a8"
             ],
             [
              0.3333333333333333,
              "#9c179e"
             ],
             [
              0.4444444444444444,
              "#bd3786"
             ],
             [
              0.5555555555555556,
              "#d8576b"
             ],
             [
              0.6666666666666666,
              "#ed7953"
             ],
             [
              0.7777777777777778,
              "#fb9f3a"
             ],
             [
              0.8888888888888888,
              "#fdca26"
             ],
             [
              1,
              "#f0f921"
             ]
            ],
            "type": "heatmap"
           }
          ],
          "heatmapgl": [
           {
            "colorbar": {
             "outlinewidth": 0,
             "ticks": ""
            },
            "colorscale": [
             [
              0,
              "#0d0887"
             ],
             [
              0.1111111111111111,
              "#46039f"
             ],
             [
              0.2222222222222222,
              "#7201a8"
             ],
             [
              0.3333333333333333,
              "#9c179e"
             ],
             [
              0.4444444444444444,
              "#bd3786"
             ],
             [
              0.5555555555555556,
              "#d8576b"
             ],
             [
              0.6666666666666666,
              "#ed7953"
             ],
             [
              0.7777777777777778,
              "#fb9f3a"
             ],
             [
              0.8888888888888888,
              "#fdca26"
             ],
             [
              1,
              "#f0f921"
             ]
            ],
            "type": "heatmapgl"
           }
          ],
          "histogram": [
           {
            "marker": {
             "colorbar": {
              "outlinewidth": 0,
              "ticks": ""
             }
            },
            "type": "histogram"
           }
          ],
          "histogram2d": [
           {
            "colorbar": {
             "outlinewidth": 0,
             "ticks": ""
            },
            "colorscale": [
             [
              0,
              "#0d0887"
             ],
             [
              0.1111111111111111,
              "#46039f"
             ],
             [
              0.2222222222222222,
              "#7201a8"
             ],
             [
              0.3333333333333333,
              "#9c179e"
             ],
             [
              0.4444444444444444,
              "#bd3786"
             ],
             [
              0.5555555555555556,
              "#d8576b"
             ],
             [
              0.6666666666666666,
              "#ed7953"
             ],
             [
              0.7777777777777778,
              "#fb9f3a"
             ],
             [
              0.8888888888888888,
              "#fdca26"
             ],
             [
              1,
              "#f0f921"
             ]
            ],
            "type": "histogram2d"
           }
          ],
          "histogram2dcontour": [
           {
            "colorbar": {
             "outlinewidth": 0,
             "ticks": ""
            },
            "colorscale": [
             [
              0,
              "#0d0887"
             ],
             [
              0.1111111111111111,
              "#46039f"
             ],
             [
              0.2222222222222222,
              "#7201a8"
             ],
             [
              0.3333333333333333,
              "#9c179e"
             ],
             [
              0.4444444444444444,
              "#bd3786"
             ],
             [
              0.5555555555555556,
              "#d8576b"
             ],
             [
              0.6666666666666666,
              "#ed7953"
             ],
             [
              0.7777777777777778,
              "#fb9f3a"
             ],
             [
              0.8888888888888888,
              "#fdca26"
             ],
             [
              1,
              "#f0f921"
             ]
            ],
            "type": "histogram2dcontour"
           }
          ],
          "mesh3d": [
           {
            "colorbar": {
             "outlinewidth": 0,
             "ticks": ""
            },
            "type": "mesh3d"
           }
          ],
          "parcoords": [
           {
            "line": {
             "colorbar": {
              "outlinewidth": 0,
              "ticks": ""
             }
            },
            "type": "parcoords"
           }
          ],
          "pie": [
           {
            "automargin": true,
            "type": "pie"
           }
          ],
          "scatter": [
           {
            "marker": {
             "colorbar": {
              "outlinewidth": 0,
              "ticks": ""
             }
            },
            "type": "scatter"
           }
          ],
          "scatter3d": [
           {
            "line": {
             "colorbar": {
              "outlinewidth": 0,
              "ticks": ""
             }
            },
            "marker": {
             "colorbar": {
              "outlinewidth": 0,
              "ticks": ""
             }
            },
            "type": "scatter3d"
           }
          ],
          "scattercarpet": [
           {
            "marker": {
             "colorbar": {
              "outlinewidth": 0,
              "ticks": ""
             }
            },
            "type": "scattercarpet"
           }
          ],
          "scattergeo": [
           {
            "marker": {
             "colorbar": {
              "outlinewidth": 0,
              "ticks": ""
             }
            },
            "type": "scattergeo"
           }
          ],
          "scattergl": [
           {
            "marker": {
             "colorbar": {
              "outlinewidth": 0,
              "ticks": ""
             }
            },
            "type": "scattergl"
           }
          ],
          "scattermapbox": [
           {
            "marker": {
             "colorbar": {
              "outlinewidth": 0,
              "ticks": ""
             }
            },
            "type": "scattermapbox"
           }
          ],
          "scatterpolar": [
           {
            "marker": {
             "colorbar": {
              "outlinewidth": 0,
              "ticks": ""
             }
            },
            "type": "scatterpolar"
           }
          ],
          "scatterpolargl": [
           {
            "marker": {
             "colorbar": {
              "outlinewidth": 0,
              "ticks": ""
             }
            },
            "type": "scatterpolargl"
           }
          ],
          "scatterternary": [
           {
            "marker": {
             "colorbar": {
              "outlinewidth": 0,
              "ticks": ""
             }
            },
            "type": "scatterternary"
           }
          ],
          "surface": [
           {
            "colorbar": {
             "outlinewidth": 0,
             "ticks": ""
            },
            "colorscale": [
             [
              0,
              "#0d0887"
             ],
             [
              0.1111111111111111,
              "#46039f"
             ],
             [
              0.2222222222222222,
              "#7201a8"
             ],
             [
              0.3333333333333333,
              "#9c179e"
             ],
             [
              0.4444444444444444,
              "#bd3786"
             ],
             [
              0.5555555555555556,
              "#d8576b"
             ],
             [
              0.6666666666666666,
              "#ed7953"
             ],
             [
              0.7777777777777778,
              "#fb9f3a"
             ],
             [
              0.8888888888888888,
              "#fdca26"
             ],
             [
              1,
              "#f0f921"
             ]
            ],
            "type": "surface"
           }
          ],
          "table": [
           {
            "cells": {
             "fill": {
              "color": "#EBF0F8"
             },
             "line": {
              "color": "white"
             }
            },
            "header": {
             "fill": {
              "color": "#C8D4E3"
             },
             "line": {
              "color": "white"
             }
            },
            "type": "table"
           }
          ]
         },
         "layout": {
          "annotationdefaults": {
           "arrowcolor": "#2a3f5f",
           "arrowhead": 0,
           "arrowwidth": 1
          },
          "autotypenumbers": "strict",
          "coloraxis": {
           "colorbar": {
            "outlinewidth": 0,
            "ticks": ""
           }
          },
          "colorscale": {
           "diverging": [
            [
             0,
             "#8e0152"
            ],
            [
             0.1,
             "#c51b7d"
            ],
            [
             0.2,
             "#de77ae"
            ],
            [
             0.3,
             "#f1b6da"
            ],
            [
             0.4,
             "#fde0ef"
            ],
            [
             0.5,
             "#f7f7f7"
            ],
            [
             0.6,
             "#e6f5d0"
            ],
            [
             0.7,
             "#b8e186"
            ],
            [
             0.8,
             "#7fbc41"
            ],
            [
             0.9,
             "#4d9221"
            ],
            [
             1,
             "#276419"
            ]
           ],
           "sequential": [
            [
             0,
             "#0d0887"
            ],
            [
             0.1111111111111111,
             "#46039f"
            ],
            [
             0.2222222222222222,
             "#7201a8"
            ],
            [
             0.3333333333333333,
             "#9c179e"
            ],
            [
             0.4444444444444444,
             "#bd3786"
            ],
            [
             0.5555555555555556,
             "#d8576b"
            ],
            [
             0.6666666666666666,
             "#ed7953"
            ],
            [
             0.7777777777777778,
             "#fb9f3a"
            ],
            [
             0.8888888888888888,
             "#fdca26"
            ],
            [
             1,
             "#f0f921"
            ]
           ],
           "sequentialminus": [
            [
             0,
             "#0d0887"
            ],
            [
             0.1111111111111111,
             "#46039f"
            ],
            [
             0.2222222222222222,
             "#7201a8"
            ],
            [
             0.3333333333333333,
             "#9c179e"
            ],
            [
             0.4444444444444444,
             "#bd3786"
            ],
            [
             0.5555555555555556,
             "#d8576b"
            ],
            [
             0.6666666666666666,
             "#ed7953"
            ],
            [
             0.7777777777777778,
             "#fb9f3a"
            ],
            [
             0.8888888888888888,
             "#fdca26"
            ],
            [
             1,
             "#f0f921"
            ]
           ]
          },
          "colorway": [
           "#636efa",
           "#EF553B",
           "#00cc96",
           "#ab63fa",
           "#FFA15A",
           "#19d3f3",
           "#FF6692",
           "#B6E880",
           "#FF97FF",
           "#FECB52"
          ],
          "font": {
           "color": "#2a3f5f"
          },
          "geo": {
           "bgcolor": "white",
           "lakecolor": "white",
           "landcolor": "#E5ECF6",
           "showlakes": true,
           "showland": true,
           "subunitcolor": "white"
          },
          "hoverlabel": {
           "align": "left"
          },
          "hovermode": "closest",
          "mapbox": {
           "style": "light"
          },
          "paper_bgcolor": "white",
          "plot_bgcolor": "#E5ECF6",
          "polar": {
           "angularaxis": {
            "gridcolor": "white",
            "linecolor": "white",
            "ticks": ""
           },
           "bgcolor": "#E5ECF6",
           "radialaxis": {
            "gridcolor": "white",
            "linecolor": "white",
            "ticks": ""
           }
          },
          "scene": {
           "xaxis": {
            "backgroundcolor": "#E5ECF6",
            "gridcolor": "white",
            "gridwidth": 2,
            "linecolor": "white",
            "showbackground": true,
            "ticks": "",
            "zerolinecolor": "white"
           },
           "yaxis": {
            "backgroundcolor": "#E5ECF6",
            "gridcolor": "white",
            "gridwidth": 2,
            "linecolor": "white",
            "showbackground": true,
            "ticks": "",
            "zerolinecolor": "white"
           },
           "zaxis": {
            "backgroundcolor": "#E5ECF6",
            "gridcolor": "white",
            "gridwidth": 2,
            "linecolor": "white",
            "showbackground": true,
            "ticks": "",
            "zerolinecolor": "white"
           }
          },
          "shapedefaults": {
           "line": {
            "color": "#2a3f5f"
           }
          },
          "ternary": {
           "aaxis": {
            "gridcolor": "white",
            "linecolor": "white",
            "ticks": ""
           },
           "baxis": {
            "gridcolor": "white",
            "linecolor": "white",
            "ticks": ""
           },
           "bgcolor": "#E5ECF6",
           "caxis": {
            "gridcolor": "white",
            "linecolor": "white",
            "ticks": ""
           }
          },
          "title": {
           "x": 0.05
          },
          "xaxis": {
           "automargin": true,
           "gridcolor": "white",
           "linecolor": "white",
           "ticks": "",
           "title": {
            "standoff": 15
           },
           "zerolinecolor": "white",
           "zerolinewidth": 2
          },
          "yaxis": {
           "automargin": true,
           "gridcolor": "white",
           "linecolor": "white",
           "ticks": "",
           "title": {
            "standoff": 15
           },
           "zerolinecolor": "white",
           "zerolinewidth": 2
          }
         }
        },
        "title": {
         "font": {
          "color": "#4D5663"
         }
        },
        "xaxis": {
         "gridcolor": "#E1E5ED",
         "showgrid": true,
         "tickfont": {
          "color": "#4D5663"
         },
         "title": {
          "font": {
           "color": "#4D5663"
          },
          "text": ""
         },
         "zerolinecolor": "#E1E5ED"
        },
        "yaxis": {
         "gridcolor": "#E1E5ED",
         "showgrid": true,
         "tickfont": {
          "color": "#4D5663"
         },
         "title": {
          "font": {
           "color": "#4D5663"
          },
          "text": ""
         },
         "zerolinecolor": "#E1E5ED"
        }
       }
      },
      "text/html": [
       "<div>                            <div id=\"7c8c7220-6e5f-4be0-b14b-deb00dcb30ba\" class=\"plotly-graph-div\" style=\"height:525px; width:100%;\"></div>            <script type=\"text/javascript\">                require([\"plotly\"], function(Plotly) {                    window.PLOTLYENV=window.PLOTLYENV || {};\n",
       "                    window.PLOTLYENV.BASE_URL='https://plot.ly';                                    if (document.getElementById(\"7c8c7220-6e5f-4be0-b14b-deb00dcb30ba\")) {                    Plotly.newPlot(                        \"7c8c7220-6e5f-4be0-b14b-deb00dcb30ba\",                        [{\"marker\": {\"color\": \"rgba(255, 153, 51, 0.6)\", \"line\": {\"color\": \"rgba(255, 153, 51, 1.0)\", \"width\": 1}}, \"name\": \"aqi\", \"orientation\": \"v\", \"text\": \"\", \"type\": \"bar\", \"x\": [\"Safford\", \"Deming\", \"Truth or Consequences\", \"El Centro\", \"Socorro\", \"Gallup\", \"Roswell\", \"Alamogordo\", \"Willcox\", \"Van Horn\"], \"y\": [253.0, 203.0, 175.0, 164.0, 160.0, 159.0, 157.0, 152.0, 103.0, 101.0]}],                        {\"legend\": {\"bgcolor\": \"#F5F6F9\", \"font\": {\"color\": \"#4D5663\"}}, \"paper_bgcolor\": \"#F5F6F9\", \"plot_bgcolor\": \"#F5F6F9\", \"template\": {\"data\": {\"bar\": [{\"error_x\": {\"color\": \"#2a3f5f\"}, \"error_y\": {\"color\": \"#2a3f5f\"}, \"marker\": {\"line\": {\"color\": \"#E5ECF6\", \"width\": 0.5}}, \"type\": \"bar\"}], \"barpolar\": [{\"marker\": {\"line\": {\"color\": \"#E5ECF6\", \"width\": 0.5}}, \"type\": \"barpolar\"}], \"carpet\": [{\"aaxis\": {\"endlinecolor\": \"#2a3f5f\", \"gridcolor\": \"white\", \"linecolor\": \"white\", \"minorgridcolor\": \"white\", \"startlinecolor\": \"#2a3f5f\"}, \"baxis\": {\"endlinecolor\": \"#2a3f5f\", \"gridcolor\": \"white\", \"linecolor\": \"white\", \"minorgridcolor\": \"white\", \"startlinecolor\": \"#2a3f5f\"}, \"type\": \"carpet\"}], \"choropleth\": [{\"colorbar\": {\"outlinewidth\": 0, \"ticks\": \"\"}, \"type\": \"choropleth\"}], \"contour\": [{\"colorbar\": {\"outlinewidth\": 0, \"ticks\": \"\"}, \"colorscale\": [[0.0, \"#0d0887\"], [0.1111111111111111, \"#46039f\"], [0.2222222222222222, \"#7201a8\"], [0.3333333333333333, \"#9c179e\"], [0.4444444444444444, \"#bd3786\"], [0.5555555555555556, \"#d8576b\"], [0.6666666666666666, \"#ed7953\"], [0.7777777777777778, \"#fb9f3a\"], [0.8888888888888888, \"#fdca26\"], [1.0, \"#f0f921\"]], \"type\": \"contour\"}], \"contourcarpet\": [{\"colorbar\": {\"outlinewidth\": 0, \"ticks\": \"\"}, \"type\": \"contourcarpet\"}], \"heatmap\": [{\"colorbar\": {\"outlinewidth\": 0, \"ticks\": \"\"}, \"colorscale\": [[0.0, \"#0d0887\"], [0.1111111111111111, \"#46039f\"], [0.2222222222222222, \"#7201a8\"], [0.3333333333333333, \"#9c179e\"], [0.4444444444444444, \"#bd3786\"], [0.5555555555555556, \"#d8576b\"], [0.6666666666666666, \"#ed7953\"], [0.7777777777777778, \"#fb9f3a\"], [0.8888888888888888, \"#fdca26\"], [1.0, \"#f0f921\"]], \"type\": \"heatmap\"}], \"heatmapgl\": [{\"colorbar\": {\"outlinewidth\": 0, \"ticks\": \"\"}, \"colorscale\": [[0.0, \"#0d0887\"], [0.1111111111111111, \"#46039f\"], [0.2222222222222222, \"#7201a8\"], [0.3333333333333333, \"#9c179e\"], [0.4444444444444444, \"#bd3786\"], [0.5555555555555556, \"#d8576b\"], [0.6666666666666666, \"#ed7953\"], [0.7777777777777778, \"#fb9f3a\"], [0.8888888888888888, \"#fdca26\"], [1.0, \"#f0f921\"]], \"type\": \"heatmapgl\"}], \"histogram\": [{\"marker\": {\"colorbar\": {\"outlinewidth\": 0, \"ticks\": \"\"}}, \"type\": \"histogram\"}], \"histogram2d\": [{\"colorbar\": {\"outlinewidth\": 0, \"ticks\": \"\"}, \"colorscale\": [[0.0, \"#0d0887\"], [0.1111111111111111, \"#46039f\"], [0.2222222222222222, \"#7201a8\"], [0.3333333333333333, \"#9c179e\"], [0.4444444444444444, \"#bd3786\"], [0.5555555555555556, \"#d8576b\"], [0.6666666666666666, \"#ed7953\"], [0.7777777777777778, \"#fb9f3a\"], [0.8888888888888888, \"#fdca26\"], [1.0, \"#f0f921\"]], \"type\": \"histogram2d\"}], \"histogram2dcontour\": [{\"colorbar\": {\"outlinewidth\": 0, \"ticks\": \"\"}, \"colorscale\": [[0.0, \"#0d0887\"], [0.1111111111111111, \"#46039f\"], [0.2222222222222222, \"#7201a8\"], [0.3333333333333333, \"#9c179e\"], [0.4444444444444444, \"#bd3786\"], [0.5555555555555556, \"#d8576b\"], [0.6666666666666666, \"#ed7953\"], [0.7777777777777778, \"#fb9f3a\"], [0.8888888888888888, \"#fdca26\"], [1.0, \"#f0f921\"]], \"type\": \"histogram2dcontour\"}], \"mesh3d\": [{\"colorbar\": {\"outlinewidth\": 0, \"ticks\": \"\"}, \"type\": \"mesh3d\"}], \"parcoords\": [{\"line\": {\"colorbar\": {\"outlinewidth\": 0, \"ticks\": \"\"}}, \"type\": \"parcoords\"}], \"pie\": [{\"automargin\": true, \"type\": \"pie\"}], \"scatter\": [{\"marker\": {\"colorbar\": {\"outlinewidth\": 0, \"ticks\": \"\"}}, \"type\": \"scatter\"}], \"scatter3d\": [{\"line\": {\"colorbar\": {\"outlinewidth\": 0, \"ticks\": \"\"}}, \"marker\": {\"colorbar\": {\"outlinewidth\": 0, \"ticks\": \"\"}}, \"type\": \"scatter3d\"}], \"scattercarpet\": [{\"marker\": {\"colorbar\": {\"outlinewidth\": 0, \"ticks\": \"\"}}, \"type\": \"scattercarpet\"}], \"scattergeo\": [{\"marker\": {\"colorbar\": {\"outlinewidth\": 0, \"ticks\": \"\"}}, \"type\": \"scattergeo\"}], \"scattergl\": [{\"marker\": {\"colorbar\": {\"outlinewidth\": 0, \"ticks\": \"\"}}, \"type\": \"scattergl\"}], \"scattermapbox\": [{\"marker\": {\"colorbar\": {\"outlinewidth\": 0, \"ticks\": \"\"}}, \"type\": \"scattermapbox\"}], \"scatterpolar\": [{\"marker\": {\"colorbar\": {\"outlinewidth\": 0, \"ticks\": \"\"}}, \"type\": \"scatterpolar\"}], \"scatterpolargl\": [{\"marker\": {\"colorbar\": {\"outlinewidth\": 0, \"ticks\": \"\"}}, \"type\": \"scatterpolargl\"}], \"scatterternary\": [{\"marker\": {\"colorbar\": {\"outlinewidth\": 0, \"ticks\": \"\"}}, \"type\": \"scatterternary\"}], \"surface\": [{\"colorbar\": {\"outlinewidth\": 0, \"ticks\": \"\"}, \"colorscale\": [[0.0, \"#0d0887\"], [0.1111111111111111, \"#46039f\"], [0.2222222222222222, \"#7201a8\"], [0.3333333333333333, \"#9c179e\"], [0.4444444444444444, \"#bd3786\"], [0.5555555555555556, \"#d8576b\"], [0.6666666666666666, \"#ed7953\"], [0.7777777777777778, \"#fb9f3a\"], [0.8888888888888888, \"#fdca26\"], [1.0, \"#f0f921\"]], \"type\": \"surface\"}], \"table\": [{\"cells\": {\"fill\": {\"color\": \"#EBF0F8\"}, \"line\": {\"color\": \"white\"}}, \"header\": {\"fill\": {\"color\": \"#C8D4E3\"}, \"line\": {\"color\": \"white\"}}, \"type\": \"table\"}]}, \"layout\": {\"annotationdefaults\": {\"arrowcolor\": \"#2a3f5f\", \"arrowhead\": 0, \"arrowwidth\": 1}, \"autotypenumbers\": \"strict\", \"coloraxis\": {\"colorbar\": {\"outlinewidth\": 0, \"ticks\": \"\"}}, \"colorscale\": {\"diverging\": [[0, \"#8e0152\"], [0.1, \"#c51b7d\"], [0.2, \"#de77ae\"], [0.3, \"#f1b6da\"], [0.4, \"#fde0ef\"], [0.5, \"#f7f7f7\"], [0.6, \"#e6f5d0\"], [0.7, \"#b8e186\"], [0.8, \"#7fbc41\"], [0.9, \"#4d9221\"], [1, \"#276419\"]], \"sequential\": [[0.0, \"#0d0887\"], [0.1111111111111111, \"#46039f\"], [0.2222222222222222, \"#7201a8\"], [0.3333333333333333, \"#9c179e\"], [0.4444444444444444, \"#bd3786\"], [0.5555555555555556, \"#d8576b\"], [0.6666666666666666, \"#ed7953\"], [0.7777777777777778, \"#fb9f3a\"], [0.8888888888888888, \"#fdca26\"], [1.0, \"#f0f921\"]], \"sequentialminus\": [[0.0, \"#0d0887\"], [0.1111111111111111, \"#46039f\"], [0.2222222222222222, \"#7201a8\"], [0.3333333333333333, \"#9c179e\"], [0.4444444444444444, \"#bd3786\"], [0.5555555555555556, \"#d8576b\"], [0.6666666666666666, \"#ed7953\"], [0.7777777777777778, \"#fb9f3a\"], [0.8888888888888888, \"#fdca26\"], [1.0, \"#f0f921\"]]}, \"colorway\": [\"#636efa\", \"#EF553B\", \"#00cc96\", \"#ab63fa\", \"#FFA15A\", \"#19d3f3\", \"#FF6692\", \"#B6E880\", \"#FF97FF\", \"#FECB52\"], \"font\": {\"color\": \"#2a3f5f\"}, \"geo\": {\"bgcolor\": \"white\", \"lakecolor\": \"white\", \"landcolor\": \"#E5ECF6\", \"showlakes\": true, \"showland\": true, \"subunitcolor\": \"white\"}, \"hoverlabel\": {\"align\": \"left\"}, \"hovermode\": \"closest\", \"mapbox\": {\"style\": \"light\"}, \"paper_bgcolor\": \"white\", \"plot_bgcolor\": \"#E5ECF6\", \"polar\": {\"angularaxis\": {\"gridcolor\": \"white\", \"linecolor\": \"white\", \"ticks\": \"\"}, \"bgcolor\": \"#E5ECF6\", \"radialaxis\": {\"gridcolor\": \"white\", \"linecolor\": \"white\", \"ticks\": \"\"}}, \"scene\": {\"xaxis\": {\"backgroundcolor\": \"#E5ECF6\", \"gridcolor\": \"white\", \"gridwidth\": 2, \"linecolor\": \"white\", \"showbackground\": true, \"ticks\": \"\", \"zerolinecolor\": \"white\"}, \"yaxis\": {\"backgroundcolor\": \"#E5ECF6\", \"gridcolor\": \"white\", \"gridwidth\": 2, \"linecolor\": \"white\", \"showbackground\": true, \"ticks\": \"\", \"zerolinecolor\": \"white\"}, \"zaxis\": {\"backgroundcolor\": \"#E5ECF6\", \"gridcolor\": \"white\", \"gridwidth\": 2, \"linecolor\": \"white\", \"showbackground\": true, \"ticks\": \"\", \"zerolinecolor\": \"white\"}}, \"shapedefaults\": {\"line\": {\"color\": \"#2a3f5f\"}}, \"ternary\": {\"aaxis\": {\"gridcolor\": \"white\", \"linecolor\": \"white\", \"ticks\": \"\"}, \"baxis\": {\"gridcolor\": \"white\", \"linecolor\": \"white\", \"ticks\": \"\"}, \"bgcolor\": \"#E5ECF6\", \"caxis\": {\"gridcolor\": \"white\", \"linecolor\": \"white\", \"ticks\": \"\"}}, \"title\": {\"x\": 0.05}, \"xaxis\": {\"automargin\": true, \"gridcolor\": \"white\", \"linecolor\": \"white\", \"ticks\": \"\", \"title\": {\"standoff\": 15}, \"zerolinecolor\": \"white\", \"zerolinewidth\": 2}, \"yaxis\": {\"automargin\": true, \"gridcolor\": \"white\", \"linecolor\": \"white\", \"ticks\": \"\", \"title\": {\"standoff\": 15}, \"zerolinecolor\": \"white\", \"zerolinewidth\": 2}}}, \"title\": {\"font\": {\"color\": \"#4D5663\"}}, \"xaxis\": {\"gridcolor\": \"#E1E5ED\", \"showgrid\": true, \"tickfont\": {\"color\": \"#4D5663\"}, \"title\": {\"font\": {\"color\": \"#4D5663\"}, \"text\": \"\"}, \"zerolinecolor\": \"#E1E5ED\"}, \"yaxis\": {\"gridcolor\": \"#E1E5ED\", \"showgrid\": true, \"tickfont\": {\"color\": \"#4D5663\"}, \"title\": {\"font\": {\"color\": \"#4D5663\"}, \"text\": \"\"}, \"zerolinecolor\": \"#E1E5ED\"}},                        {\"showLink\": true, \"linkText\": \"Export to plot.ly\", \"plotlyServerURL\": \"https://plot.ly\", \"responsive\": true}                    ).then(function(){\n",
       "                            \n",
       "var gd = document.getElementById('7c8c7220-6e5f-4be0-b14b-deb00dcb30ba');\n",
       "var x = new MutationObserver(function (mutations, observer) {{\n",
       "        var display = window.getComputedStyle(gd).display;\n",
       "        if (!display || display === 'none') {{\n",
       "            console.log([gd, 'removed!']);\n",
       "            Plotly.purge(gd);\n",
       "            observer.disconnect();\n",
       "        }}\n",
       "}});\n",
       "\n",
       "// Listen for the removal of the full notebook cells\n",
       "var notebookContainer = gd.closest('#notebook-container');\n",
       "if (notebookContainer) {{\n",
       "    x.observe(notebookContainer, {childList: true});\n",
       "}}\n",
       "\n",
       "// Listen for the clearing of the current output cell\n",
       "var outputEl = gd.closest('.output');\n",
       "if (outputEl) {{\n",
       "    x.observe(outputEl, {childList: true});\n",
       "}}\n",
       "\n",
       "                        })                };                });            </script>        </div>"
      ]
     },
     "metadata": {},
     "output_type": "display_data"
    }
   ],
   "source": [
    "usa_cities[['city_name', 'aqi']].groupby(['city_name']).agg('mean').sort_values('aqi',ascending=False).head(10).iplot(kind=\"bar\")"
   ]
  },
  {
   "cell_type": "markdown",
   "metadata": {},
   "source": [
    "From above graph,we can see that the city (\"Casa Grande\") is most polluted city in the USA."
   ]
  },
  {
   "cell_type": "markdown",
   "metadata": {},
   "source": [
    "### Lets Check the Distribution of the Pollutants in Air"
   ]
  },
  {
   "cell_type": "code",
   "execution_count": 42,
   "metadata": {
    "ExecuteTime": {
     "end_time": "2021-06-21T08:36:49.078408Z",
     "start_time": "2021-06-21T08:36:46.960907Z"
    }
   },
   "outputs": [
    {
     "data": {
      "image/png": "[encoded data removed]",
      "text/plain": [
       "<Figure size 1296x1296 with 2 Axes>"
      ]
     },
     "metadata": {
      "needs_background": "light"
     },
     "output_type": "display_data"
    }
   ],
   "source": [
    "pollutants=(usa_cities.columns)\n",
    "pollutants=list(pollutants.drop([\"city_name\",\"aqi\",\"lon\",\"lat\",\"pm10\",\"pm25\"]))\n",
    "\n",
    "\n",
    "usa_cities[pollutants].groupby(\"state_code\")[\"co\",\"o3\"].first().plot(kind=\"bar\",figsize=(18,18),subplots=True)\n",
    "plt.show();"
   ]
  },
  {
   "cell_type": "markdown",
   "metadata": {},
   "source": [
    "### Distribution of SO2 & NO2"
   ]
  },
  {
   "cell_type": "code",
   "execution_count": 32,
   "metadata": {
    "ExecuteTime": {
     "end_time": "2021-06-21T00:16:44.173668Z",
     "start_time": "2021-06-21T00:16:43.863367Z"
    }
   },
   "outputs": [
    {
     "data": {
      "image/png": "[encoded data removed]",
      "text/plain": [
       "<Figure size 720x720 with 1 Axes>"
      ]
     },
     "metadata": {
      "needs_background": "light"
     },
     "output_type": "display_data"
    }
   ],
   "source": [
    "plt.style.use('seaborn-deep')\n",
    "plt.figure(figsize=(10,10))\n",
    "plt.grid(True)\n",
    "x = usa_cities['so2']\n",
    "y = usa_cities['no2']\n",
    "plt.hist([x,y], label=['So2 Distribution','No2 Distribution'])\n",
    "plt.legend(loc='upper right')\n",
    "plt.title('SO2 & NO2 Distribution')\n",
    "plt.show();"
   ]
  },
  {
   "cell_type": "code",
   "execution_count": null,
   "metadata": {},
   "outputs": [],
   "source": []
  },
  {
   "cell_type": "code",
   "execution_count": null,
   "metadata": {},
   "outputs": [],
   "source": []
  }
 ],
 "metadata": {
  "kernelspec": {
   "display_name": "Python 3 (ipykernel)",
   "language": "python",
   "name": "python3"
  },
  "language_info": {
   "codemirror_mode": {
    "name": "ipython",
    "version": 3
   },
   "file_extension": ".py",
   "mimetype": "text/x-python",
   "name": "python",
   "nbconvert_exporter": "python",
   "pygments_lexer": "ipython3",
   "version": "3.8.11"
  },
  "varInspector": {
   "cols": {
    "lenName": 16,
    "lenType": 16,
    "lenVar": 40
   },
   "kernels_config": {
    "python": {
     "delete_cmd_postfix": "",
     "delete_cmd_prefix": "del ",
     "library": "var_list.py",
     "varRefreshCmd": "print(var_dic_list())"
    },
    "r": {
     "delete_cmd_postfix": ") ",
     "delete_cmd_prefix": "rm(",
     "library": "var_list.r",
     "varRefreshCmd": "cat(var_dic_list()) "
    }
   },
   "types_to_exclude": [
    "module",
    "function",
    "builtin_function_or_method",
    "instance",
    "_Feature"
   ],
   "window_display": false
  }
 },
 "nbformat": 4,
 "nbformat_minor": 4
}
